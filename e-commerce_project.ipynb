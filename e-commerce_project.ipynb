{
 "cells": [
  {
   "cell_type": "code",
   "execution_count": 270,
   "metadata": {
    "ExecuteTime": {
     "end_time": "2023-12-23T15:33:44.351438Z",
     "start_time": "2023-12-23T15:33:44.341219Z"
    },
    "trusted": true
   },
   "outputs": [],
   "source": [
    "import pandas as pd\n",
    "import seaborn as sns\n",
    "import matplotlib.pyplot as plt\n",
    "%matplotlib inline\n",
    "\n",
    "import datetime as dt\n",
    "from datetime import timedelta\n",
    "from operator import attrgetter"
   ]
  },
  {
   "cell_type": "code",
   "execution_count": 208,
   "metadata": {
    "ExecuteTime": {
     "end_time": "2023-12-23T15:32:54.813245Z",
     "start_time": "2023-12-23T15:32:54.799153Z"
    },
    "trusted": true
   },
   "outputs": [],
   "source": [
    "sns.set(\n",
    "    font_scale = 1, #Размер шрифта\n",
    "    style      = \"whitegrid\", # общий вид графиков\n",
    "    rc         = {'figure.figsize':(22,10)} # размер фигуры\n",
    ")"
   ]
  },
  {
   "cell_type": "code",
   "execution_count": 209,
   "metadata": {
    "ExecuteTime": {
     "end_time": "2023-12-23T15:32:55.129327Z",
     "start_time": "2023-12-23T15:32:54.852176Z"
    },
    "trusted": true
   },
   "outputs": [],
   "source": [
    "customers_df = pd.read_csv('/mnt/HC_Volume_18315164/home-jupyter/jupyter-g-georgij-45/first_project/olist_customers_dataset.csv')"
   ]
  },
  {
   "cell_type": "code",
   "execution_count": 210,
   "metadata": {
    "ExecuteTime": {
     "end_time": "2023-12-23T15:32:55.159540Z",
     "start_time": "2023-12-23T15:32:55.145699Z"
    },
    "trusted": true
   },
   "outputs": [
    {
     "data": {
      "text/html": "<div>\n<style scoped>\n    .dataframe tbody tr th:only-of-type {\n        vertical-align: middle;\n    }\n\n    .dataframe tbody tr th {\n        vertical-align: top;\n    }\n\n    .dataframe thead th {\n        text-align: right;\n    }\n</style>\n<table border=\"1\" class=\"dataframe\">\n  <thead>\n    <tr style=\"text-align: right;\">\n      <th></th>\n      <th>customer_id</th>\n      <th>customer_unique_id</th>\n      <th>customer_zip_code_prefix</th>\n      <th>customer_city</th>\n      <th>customer_state</th>\n    </tr>\n  </thead>\n  <tbody>\n    <tr>\n      <th>0</th>\n      <td>06b8999e2fba1a1fbc88172c00ba8bc7</td>\n      <td>861eff4711a542e4b93843c6dd7febb0</td>\n      <td>14409</td>\n      <td>franca</td>\n      <td>SP</td>\n    </tr>\n    <tr>\n      <th>1</th>\n      <td>18955e83d337fd6b2def6b18a428ac77</td>\n      <td>290c77bc529b7ac935b93aa66c333dc3</td>\n      <td>9790</td>\n      <td>sao bernardo do campo</td>\n      <td>SP</td>\n    </tr>\n    <tr>\n      <th>2</th>\n      <td>4e7b3e00288586ebd08712fdd0374a03</td>\n      <td>060e732b5b29e8181a18229c7b0b2b5e</td>\n      <td>1151</td>\n      <td>sao paulo</td>\n      <td>SP</td>\n    </tr>\n    <tr>\n      <th>3</th>\n      <td>b2b6027bc5c5109e529d4dc6358b12c3</td>\n      <td>259dac757896d24d7702b9acbbff3f3c</td>\n      <td>8775</td>\n      <td>mogi das cruzes</td>\n      <td>SP</td>\n    </tr>\n    <tr>\n      <th>4</th>\n      <td>4f2d8ab171c80ec8364f7c12e35b23ad</td>\n      <td>345ecd01c38d18a9036ed96c73b8d066</td>\n      <td>13056</td>\n      <td>campinas</td>\n      <td>SP</td>\n    </tr>\n  </tbody>\n</table>\n</div>",
      "text/plain": "                        customer_id                customer_unique_id  \\\n0  06b8999e2fba1a1fbc88172c00ba8bc7  861eff4711a542e4b93843c6dd7febb0   \n1  18955e83d337fd6b2def6b18a428ac77  290c77bc529b7ac935b93aa66c333dc3   \n2  4e7b3e00288586ebd08712fdd0374a03  060e732b5b29e8181a18229c7b0b2b5e   \n3  b2b6027bc5c5109e529d4dc6358b12c3  259dac757896d24d7702b9acbbff3f3c   \n4  4f2d8ab171c80ec8364f7c12e35b23ad  345ecd01c38d18a9036ed96c73b8d066   \n\n   customer_zip_code_prefix          customer_city customer_state  \n0                     14409                 franca             SP  \n1                      9790  sao bernardo do campo             SP  \n2                      1151              sao paulo             SP  \n3                      8775        mogi das cruzes             SP  \n4                     13056               campinas             SP  "
     },
     "execution_count": 210,
     "metadata": {},
     "output_type": "execute_result"
    }
   ],
   "source": [
    "customers_df.head()"
   ]
  },
  {
   "cell_type": "code",
   "execution_count": 211,
   "metadata": {
    "ExecuteTime": {
     "end_time": "2023-12-23T15:32:55.227940Z",
     "start_time": "2023-12-23T15:32:55.145968Z"
    },
    "trusted": true
   },
   "outputs": [
    {
     "data": {
      "text/plain": "(99441, 5)"
     },
     "execution_count": 211,
     "metadata": {},
     "output_type": "execute_result"
    }
   ],
   "source": [
    "customers_df.shape"
   ]
  },
  {
   "cell_type": "code",
   "execution_count": 212,
   "metadata": {
    "ExecuteTime": {
     "end_time": "2023-12-23T15:32:55.725130Z",
     "start_time": "2023-12-23T15:32:55.188530Z"
    },
    "trusted": true
   },
   "outputs": [],
   "source": [
    "orders_df = pd.read_csv('/mnt/HC_Volume_18315164/home-jupyter/jupyter-g-georgij-45/first_project/olist_orders_dataset.csv')"
   ]
  },
  {
   "cell_type": "code",
   "execution_count": 213,
   "metadata": {
    "ExecuteTime": {
     "end_time": "2023-12-23T15:32:55.739073Z",
     "start_time": "2023-12-23T15:32:55.729685Z"
    },
    "trusted": true
   },
   "outputs": [
    {
     "data": {
      "text/html": "<div>\n<style scoped>\n    .dataframe tbody tr th:only-of-type {\n        vertical-align: middle;\n    }\n\n    .dataframe tbody tr th {\n        vertical-align: top;\n    }\n\n    .dataframe thead th {\n        text-align: right;\n    }\n</style>\n<table border=\"1\" class=\"dataframe\">\n  <thead>\n    <tr style=\"text-align: right;\">\n      <th></th>\n      <th>order_id</th>\n      <th>customer_id</th>\n      <th>order_status</th>\n      <th>order_purchase_timestamp</th>\n      <th>order_approved_at</th>\n      <th>order_delivered_carrier_date</th>\n      <th>order_delivered_customer_date</th>\n      <th>order_estimated_delivery_date</th>\n    </tr>\n  </thead>\n  <tbody>\n    <tr>\n      <th>0</th>\n      <td>e481f51cbdc54678b7cc49136f2d6af7</td>\n      <td>9ef432eb6251297304e76186b10a928d</td>\n      <td>delivered</td>\n      <td>2017-10-02 10:56:33</td>\n      <td>2017-10-02 11:07:15</td>\n      <td>2017-10-04 19:55:00</td>\n      <td>2017-10-10 21:25:13</td>\n      <td>2017-10-18 00:00:00</td>\n    </tr>\n    <tr>\n      <th>1</th>\n      <td>53cdb2fc8bc7dce0b6741e2150273451</td>\n      <td>b0830fb4747a6c6d20dea0b8c802d7ef</td>\n      <td>delivered</td>\n      <td>2018-07-24 20:41:37</td>\n      <td>2018-07-26 03:24:27</td>\n      <td>2018-07-26 14:31:00</td>\n      <td>2018-08-07 15:27:45</td>\n      <td>2018-08-13 00:00:00</td>\n    </tr>\n    <tr>\n      <th>2</th>\n      <td>47770eb9100c2d0c44946d9cf07ec65d</td>\n      <td>41ce2a54c0b03bf3443c3d931a367089</td>\n      <td>delivered</td>\n      <td>2018-08-08 08:38:49</td>\n      <td>2018-08-08 08:55:23</td>\n      <td>2018-08-08 13:50:00</td>\n      <td>2018-08-17 18:06:29</td>\n      <td>2018-09-04 00:00:00</td>\n    </tr>\n    <tr>\n      <th>3</th>\n      <td>949d5b44dbf5de918fe9c16f97b45f8a</td>\n      <td>f88197465ea7920adcdbec7375364d82</td>\n      <td>delivered</td>\n      <td>2017-11-18 19:28:06</td>\n      <td>2017-11-18 19:45:59</td>\n      <td>2017-11-22 13:39:59</td>\n      <td>2017-12-02 00:28:42</td>\n      <td>2017-12-15 00:00:00</td>\n    </tr>\n    <tr>\n      <th>4</th>\n      <td>ad21c59c0840e6cb83a9ceb5573f8159</td>\n      <td>8ab97904e6daea8866dbdbc4fb7aad2c</td>\n      <td>delivered</td>\n      <td>2018-02-13 21:18:39</td>\n      <td>2018-02-13 22:20:29</td>\n      <td>2018-02-14 19:46:34</td>\n      <td>2018-02-16 18:17:02</td>\n      <td>2018-02-26 00:00:00</td>\n    </tr>\n  </tbody>\n</table>\n</div>",
      "text/plain": "                           order_id                       customer_id  \\\n0  e481f51cbdc54678b7cc49136f2d6af7  9ef432eb6251297304e76186b10a928d   \n1  53cdb2fc8bc7dce0b6741e2150273451  b0830fb4747a6c6d20dea0b8c802d7ef   \n2  47770eb9100c2d0c44946d9cf07ec65d  41ce2a54c0b03bf3443c3d931a367089   \n3  949d5b44dbf5de918fe9c16f97b45f8a  f88197465ea7920adcdbec7375364d82   \n4  ad21c59c0840e6cb83a9ceb5573f8159  8ab97904e6daea8866dbdbc4fb7aad2c   \n\n  order_status order_purchase_timestamp    order_approved_at  \\\n0    delivered      2017-10-02 10:56:33  2017-10-02 11:07:15   \n1    delivered      2018-07-24 20:41:37  2018-07-26 03:24:27   \n2    delivered      2018-08-08 08:38:49  2018-08-08 08:55:23   \n3    delivered      2017-11-18 19:28:06  2017-11-18 19:45:59   \n4    delivered      2018-02-13 21:18:39  2018-02-13 22:20:29   \n\n  order_delivered_carrier_date order_delivered_customer_date  \\\n0          2017-10-04 19:55:00           2017-10-10 21:25:13   \n1          2018-07-26 14:31:00           2018-08-07 15:27:45   \n2          2018-08-08 13:50:00           2018-08-17 18:06:29   \n3          2017-11-22 13:39:59           2017-12-02 00:28:42   \n4          2018-02-14 19:46:34           2018-02-16 18:17:02   \n\n  order_estimated_delivery_date  \n0           2017-10-18 00:00:00  \n1           2018-08-13 00:00:00  \n2           2018-09-04 00:00:00  \n3           2017-12-15 00:00:00  \n4           2018-02-26 00:00:00  "
     },
     "execution_count": 213,
     "metadata": {},
     "output_type": "execute_result"
    }
   ],
   "source": [
    "orders_df.head()"
   ]
  },
  {
   "cell_type": "code",
   "execution_count": 214,
   "metadata": {
    "ExecuteTime": {
     "end_time": "2023-12-23T15:32:55.794087Z",
     "start_time": "2023-12-23T15:32:55.751022Z"
    },
    "trusted": true
   },
   "outputs": [
    {
     "data": {
      "text/plain": "(99441, 8)"
     },
     "execution_count": 214,
     "metadata": {},
     "output_type": "execute_result"
    }
   ],
   "source": [
    "orders_df.shape"
   ]
  },
  {
   "cell_type": "markdown",
   "metadata": {},
   "source": [
    "## Задание_1: Сколько у нас пользователей, которые совершили покупку только один раз?"
   ]
  },
  {
   "cell_type": "code",
   "execution_count": 215,
   "metadata": {
    "ExecuteTime": {
     "end_time": "2023-12-23T15:32:56.034185Z",
     "start_time": "2023-12-23T15:32:55.770685Z"
    },
    "trusted": true
   },
   "outputs": [],
   "source": [
    "customer_order_df = orders_df.merge(customers_df, on = 'customer_id' ).fillna(0) \n",
    "#Объединяем датафрейм и заменяем NaN на 0"
   ]
  },
  {
   "cell_type": "code",
   "execution_count": 216,
   "metadata": {
    "ExecuteTime": {
     "end_time": "2023-12-23T15:32:56.074501Z",
     "start_time": "2023-12-23T15:32:56.072113Z"
    },
    "trusted": true
   },
   "outputs": [
    {
     "data": {
      "text/html": "<div>\n<style scoped>\n    .dataframe tbody tr th:only-of-type {\n        vertical-align: middle;\n    }\n\n    .dataframe tbody tr th {\n        vertical-align: top;\n    }\n\n    .dataframe thead th {\n        text-align: right;\n    }\n</style>\n<table border=\"1\" class=\"dataframe\">\n  <thead>\n    <tr style=\"text-align: right;\">\n      <th></th>\n      <th>order_id</th>\n      <th>customer_id</th>\n      <th>order_status</th>\n      <th>order_purchase_timestamp</th>\n      <th>order_approved_at</th>\n      <th>order_delivered_carrier_date</th>\n      <th>order_delivered_customer_date</th>\n      <th>order_estimated_delivery_date</th>\n      <th>customer_unique_id</th>\n      <th>customer_zip_code_prefix</th>\n      <th>customer_city</th>\n      <th>customer_state</th>\n    </tr>\n  </thead>\n  <tbody>\n    <tr>\n      <th>0</th>\n      <td>e481f51cbdc54678b7cc49136f2d6af7</td>\n      <td>9ef432eb6251297304e76186b10a928d</td>\n      <td>delivered</td>\n      <td>2017-10-02 10:56:33</td>\n      <td>2017-10-02 11:07:15</td>\n      <td>2017-10-04 19:55:00</td>\n      <td>2017-10-10 21:25:13</td>\n      <td>2017-10-18 00:00:00</td>\n      <td>7c396fd4830fd04220f754e42b4e5bff</td>\n      <td>3149</td>\n      <td>sao paulo</td>\n      <td>SP</td>\n    </tr>\n    <tr>\n      <th>1</th>\n      <td>53cdb2fc8bc7dce0b6741e2150273451</td>\n      <td>b0830fb4747a6c6d20dea0b8c802d7ef</td>\n      <td>delivered</td>\n      <td>2018-07-24 20:41:37</td>\n      <td>2018-07-26 03:24:27</td>\n      <td>2018-07-26 14:31:00</td>\n      <td>2018-08-07 15:27:45</td>\n      <td>2018-08-13 00:00:00</td>\n      <td>af07308b275d755c9edb36a90c618231</td>\n      <td>47813</td>\n      <td>barreiras</td>\n      <td>BA</td>\n    </tr>\n    <tr>\n      <th>2</th>\n      <td>47770eb9100c2d0c44946d9cf07ec65d</td>\n      <td>41ce2a54c0b03bf3443c3d931a367089</td>\n      <td>delivered</td>\n      <td>2018-08-08 08:38:49</td>\n      <td>2018-08-08 08:55:23</td>\n      <td>2018-08-08 13:50:00</td>\n      <td>2018-08-17 18:06:29</td>\n      <td>2018-09-04 00:00:00</td>\n      <td>3a653a41f6f9fc3d2a113cf8398680e8</td>\n      <td>75265</td>\n      <td>vianopolis</td>\n      <td>GO</td>\n    </tr>\n    <tr>\n      <th>3</th>\n      <td>949d5b44dbf5de918fe9c16f97b45f8a</td>\n      <td>f88197465ea7920adcdbec7375364d82</td>\n      <td>delivered</td>\n      <td>2017-11-18 19:28:06</td>\n      <td>2017-11-18 19:45:59</td>\n      <td>2017-11-22 13:39:59</td>\n      <td>2017-12-02 00:28:42</td>\n      <td>2017-12-15 00:00:00</td>\n      <td>7c142cf63193a1473d2e66489a9ae977</td>\n      <td>59296</td>\n      <td>sao goncalo do amarante</td>\n      <td>RN</td>\n    </tr>\n    <tr>\n      <th>4</th>\n      <td>ad21c59c0840e6cb83a9ceb5573f8159</td>\n      <td>8ab97904e6daea8866dbdbc4fb7aad2c</td>\n      <td>delivered</td>\n      <td>2018-02-13 21:18:39</td>\n      <td>2018-02-13 22:20:29</td>\n      <td>2018-02-14 19:46:34</td>\n      <td>2018-02-16 18:17:02</td>\n      <td>2018-02-26 00:00:00</td>\n      <td>72632f0f9dd73dfee390c9b22eb56dd6</td>\n      <td>9195</td>\n      <td>santo andre</td>\n      <td>SP</td>\n    </tr>\n  </tbody>\n</table>\n</div>",
      "text/plain": "                           order_id                       customer_id  \\\n0  e481f51cbdc54678b7cc49136f2d6af7  9ef432eb6251297304e76186b10a928d   \n1  53cdb2fc8bc7dce0b6741e2150273451  b0830fb4747a6c6d20dea0b8c802d7ef   \n2  47770eb9100c2d0c44946d9cf07ec65d  41ce2a54c0b03bf3443c3d931a367089   \n3  949d5b44dbf5de918fe9c16f97b45f8a  f88197465ea7920adcdbec7375364d82   \n4  ad21c59c0840e6cb83a9ceb5573f8159  8ab97904e6daea8866dbdbc4fb7aad2c   \n\n  order_status order_purchase_timestamp    order_approved_at  \\\n0    delivered      2017-10-02 10:56:33  2017-10-02 11:07:15   \n1    delivered      2018-07-24 20:41:37  2018-07-26 03:24:27   \n2    delivered      2018-08-08 08:38:49  2018-08-08 08:55:23   \n3    delivered      2017-11-18 19:28:06  2017-11-18 19:45:59   \n4    delivered      2018-02-13 21:18:39  2018-02-13 22:20:29   \n\n  order_delivered_carrier_date order_delivered_customer_date  \\\n0          2017-10-04 19:55:00           2017-10-10 21:25:13   \n1          2018-07-26 14:31:00           2018-08-07 15:27:45   \n2          2018-08-08 13:50:00           2018-08-17 18:06:29   \n3          2017-11-22 13:39:59           2017-12-02 00:28:42   \n4          2018-02-14 19:46:34           2018-02-16 18:17:02   \n\n  order_estimated_delivery_date                customer_unique_id  \\\n0           2017-10-18 00:00:00  7c396fd4830fd04220f754e42b4e5bff   \n1           2018-08-13 00:00:00  af07308b275d755c9edb36a90c618231   \n2           2018-09-04 00:00:00  3a653a41f6f9fc3d2a113cf8398680e8   \n3           2017-12-15 00:00:00  7c142cf63193a1473d2e66489a9ae977   \n4           2018-02-26 00:00:00  72632f0f9dd73dfee390c9b22eb56dd6   \n\n   customer_zip_code_prefix            customer_city customer_state  \n0                      3149                sao paulo             SP  \n1                     47813                barreiras             BA  \n2                     75265               vianopolis             GO  \n3                     59296  sao goncalo do amarante             RN  \n4                      9195              santo andre             SP  "
     },
     "execution_count": 216,
     "metadata": {},
     "output_type": "execute_result"
    }
   ],
   "source": [
    "customer_order_df.head()"
   ]
  },
  {
   "cell_type": "markdown",
   "metadata": {},
   "source": [
    "### Что должно считаться покупкой?"
   ]
  },
  {
   "cell_type": "markdown",
   "metadata": {},
   "source": [
    "Я считаю что покупкой нужно считать завершенный заказ, т.е. заказ у которого в статусе заказа отмечено \"delivered\", потому что у меня нет оснований считать заказ завершенным без отметки, что он доставлен."
   ]
  },
  {
   "cell_type": "code",
   "execution_count": 217,
   "metadata": {
    "ExecuteTime": {
     "end_time": "2023-12-23T15:32:56.184658Z",
     "start_time": "2023-12-23T15:32:56.073358Z"
    },
    "trusted": true
   },
   "outputs": [
    {
     "data": {
      "text/plain": "shipped        1107\ncanceled        619\nunavailable     609\ninvoiced        314\nprocessing      301\ndelivered         8\ncreated           5\napproved          2\nName: order_status, dtype: int64"
     },
     "execution_count": 217,
     "metadata": {},
     "output_type": "execute_result"
    }
   ],
   "source": [
    "customer_order_df.query('order_delivered_customer_date == 0').order_status.value_counts()"
   ]
  },
  {
   "cell_type": "code",
   "execution_count": 218,
   "metadata": {
    "ExecuteTime": {
     "end_time": "2023-12-23T15:32:56.189552Z",
     "start_time": "2023-12-23T15:32:56.174350Z"
    },
    "trusted": true
   },
   "outputs": [
    {
     "data": {
      "text/html": "<div>\n<style scoped>\n    .dataframe tbody tr th:only-of-type {\n        vertical-align: middle;\n    }\n\n    .dataframe tbody tr th {\n        vertical-align: top;\n    }\n\n    .dataframe thead th {\n        text-align: right;\n    }\n</style>\n<table border=\"1\" class=\"dataframe\">\n  <thead>\n    <tr style=\"text-align: right;\">\n      <th></th>\n      <th>order_id</th>\n      <th>customer_id</th>\n      <th>order_status</th>\n      <th>order_purchase_timestamp</th>\n      <th>order_approved_at</th>\n      <th>order_delivered_carrier_date</th>\n      <th>order_delivered_customer_date</th>\n      <th>order_estimated_delivery_date</th>\n      <th>customer_unique_id</th>\n      <th>customer_zip_code_prefix</th>\n      <th>customer_city</th>\n      <th>customer_state</th>\n    </tr>\n  </thead>\n  <tbody>\n    <tr>\n      <th>3002</th>\n      <td>2d1e2d5bf4dc7227b3bfebb81328c15f</td>\n      <td>ec05a6d8558c6455f0cbbd8a420ad34f</td>\n      <td>delivered</td>\n      <td>2017-11-28 17:44:07</td>\n      <td>2017-11-28 17:56:40</td>\n      <td>2017-11-30 18:12:23</td>\n      <td>0</td>\n      <td>2017-12-18 00:00:00</td>\n      <td>13467e882eb3a701826435ee4424f2bd</td>\n      <td>18520</td>\n      <td>cerquilho</td>\n      <td>SP</td>\n    </tr>\n    <tr>\n      <th>20618</th>\n      <td>f5dd62b788049ad9fc0526e3ad11a097</td>\n      <td>5e89028e024b381dc84a13a3570decb4</td>\n      <td>delivered</td>\n      <td>2018-06-20 06:58:43</td>\n      <td>2018-06-20 07:19:05</td>\n      <td>2018-06-25 08:05:00</td>\n      <td>0</td>\n      <td>2018-07-16 00:00:00</td>\n      <td>2f17c5b324ad603491521b279a9ff4de</td>\n      <td>18255</td>\n      <td>quadra</td>\n      <td>SP</td>\n    </tr>\n    <tr>\n      <th>43834</th>\n      <td>2ebdfc4f15f23b91474edf87475f108e</td>\n      <td>29f0540231702fda0cfdee0a310f11aa</td>\n      <td>delivered</td>\n      <td>2018-07-01 17:05:11</td>\n      <td>2018-07-01 17:15:12</td>\n      <td>2018-07-03 13:57:00</td>\n      <td>0</td>\n      <td>2018-07-30 00:00:00</td>\n      <td>1bd06a0c0df8b23dacfd3725d2dc0bb9</td>\n      <td>12445</td>\n      <td>pindamonhangaba</td>\n      <td>SP</td>\n    </tr>\n    <tr>\n      <th>79263</th>\n      <td>e69f75a717d64fc5ecdfae42b2e8e086</td>\n      <td>cfda40ca8dd0a5d486a9635b611b398a</td>\n      <td>delivered</td>\n      <td>2018-07-01 22:05:55</td>\n      <td>2018-07-01 22:15:14</td>\n      <td>2018-07-03 13:57:00</td>\n      <td>0</td>\n      <td>2018-07-30 00:00:00</td>\n      <td>3bc508d482a402715be4d5cf4020cc81</td>\n      <td>13170</td>\n      <td>sumare</td>\n      <td>SP</td>\n    </tr>\n    <tr>\n      <th>82868</th>\n      <td>0d3268bad9b086af767785e3f0fc0133</td>\n      <td>4f1d63d35fb7c8999853b2699f5c7649</td>\n      <td>delivered</td>\n      <td>2018-07-01 21:14:02</td>\n      <td>2018-07-01 21:29:54</td>\n      <td>2018-07-03 09:28:00</td>\n      <td>0</td>\n      <td>2018-07-24 00:00:00</td>\n      <td>ebf7e0d43a78c81991a4c59c145c75db</td>\n      <td>13560</td>\n      <td>sao carlos</td>\n      <td>SP</td>\n    </tr>\n    <tr>\n      <th>92643</th>\n      <td>2d858f451373b04fb5c984a1cc2defaf</td>\n      <td>e08caf668d499a6d643dafd7c5cc498a</td>\n      <td>delivered</td>\n      <td>2017-05-25 23:22:43</td>\n      <td>2017-05-25 23:30:16</td>\n      <td>0</td>\n      <td>0</td>\n      <td>2017-06-23 00:00:00</td>\n      <td>d77cf4be2654aa70ef150f8bfec076a6</td>\n      <td>91330</td>\n      <td>porto alegre</td>\n      <td>RS</td>\n    </tr>\n    <tr>\n      <th>97647</th>\n      <td>ab7c89dc1bf4a1ead9d6ec1ec8968a84</td>\n      <td>dd1b84a7286eb4524d52af4256c0ba24</td>\n      <td>delivered</td>\n      <td>2018-06-08 12:09:39</td>\n      <td>2018-06-08 12:36:39</td>\n      <td>2018-06-12 14:10:00</td>\n      <td>0</td>\n      <td>2018-06-26 00:00:00</td>\n      <td>cce5e8188bf42ffb3bb5b18ff58f5965</td>\n      <td>7261</td>\n      <td>guarulhos</td>\n      <td>SP</td>\n    </tr>\n    <tr>\n      <th>98038</th>\n      <td>20edc82cf5400ce95e1afacc25798b31</td>\n      <td>28c37425f1127d887d7337f284080a0f</td>\n      <td>delivered</td>\n      <td>2018-06-27 16:09:12</td>\n      <td>2018-06-27 16:29:30</td>\n      <td>2018-07-03 19:26:00</td>\n      <td>0</td>\n      <td>2018-07-19 00:00:00</td>\n      <td>175378436e2978be55b8f4316bce4811</td>\n      <td>9431</td>\n      <td>ribeirao pires</td>\n      <td>SP</td>\n    </tr>\n  </tbody>\n</table>\n</div>",
      "text/plain": "                               order_id                       customer_id  \\\n3002   2d1e2d5bf4dc7227b3bfebb81328c15f  ec05a6d8558c6455f0cbbd8a420ad34f   \n20618  f5dd62b788049ad9fc0526e3ad11a097  5e89028e024b381dc84a13a3570decb4   \n43834  2ebdfc4f15f23b91474edf87475f108e  29f0540231702fda0cfdee0a310f11aa   \n79263  e69f75a717d64fc5ecdfae42b2e8e086  cfda40ca8dd0a5d486a9635b611b398a   \n82868  0d3268bad9b086af767785e3f0fc0133  4f1d63d35fb7c8999853b2699f5c7649   \n92643  2d858f451373b04fb5c984a1cc2defaf  e08caf668d499a6d643dafd7c5cc498a   \n97647  ab7c89dc1bf4a1ead9d6ec1ec8968a84  dd1b84a7286eb4524d52af4256c0ba24   \n98038  20edc82cf5400ce95e1afacc25798b31  28c37425f1127d887d7337f284080a0f   \n\n      order_status order_purchase_timestamp    order_approved_at  \\\n3002     delivered      2017-11-28 17:44:07  2017-11-28 17:56:40   \n20618    delivered      2018-06-20 06:58:43  2018-06-20 07:19:05   \n43834    delivered      2018-07-01 17:05:11  2018-07-01 17:15:12   \n79263    delivered      2018-07-01 22:05:55  2018-07-01 22:15:14   \n82868    delivered      2018-07-01 21:14:02  2018-07-01 21:29:54   \n92643    delivered      2017-05-25 23:22:43  2017-05-25 23:30:16   \n97647    delivered      2018-06-08 12:09:39  2018-06-08 12:36:39   \n98038    delivered      2018-06-27 16:09:12  2018-06-27 16:29:30   \n\n      order_delivered_carrier_date order_delivered_customer_date  \\\n3002           2017-11-30 18:12:23                             0   \n20618          2018-06-25 08:05:00                             0   \n43834          2018-07-03 13:57:00                             0   \n79263          2018-07-03 13:57:00                             0   \n82868          2018-07-03 09:28:00                             0   \n92643                            0                             0   \n97647          2018-06-12 14:10:00                             0   \n98038          2018-07-03 19:26:00                             0   \n\n      order_estimated_delivery_date                customer_unique_id  \\\n3002            2017-12-18 00:00:00  13467e882eb3a701826435ee4424f2bd   \n20618           2018-07-16 00:00:00  2f17c5b324ad603491521b279a9ff4de   \n43834           2018-07-30 00:00:00  1bd06a0c0df8b23dacfd3725d2dc0bb9   \n79263           2018-07-30 00:00:00  3bc508d482a402715be4d5cf4020cc81   \n82868           2018-07-24 00:00:00  ebf7e0d43a78c81991a4c59c145c75db   \n92643           2017-06-23 00:00:00  d77cf4be2654aa70ef150f8bfec076a6   \n97647           2018-06-26 00:00:00  cce5e8188bf42ffb3bb5b18ff58f5965   \n98038           2018-07-19 00:00:00  175378436e2978be55b8f4316bce4811   \n\n       customer_zip_code_prefix    customer_city customer_state  \n3002                      18520        cerquilho             SP  \n20618                     18255           quadra             SP  \n43834                     12445  pindamonhangaba             SP  \n79263                     13170           sumare             SP  \n82868                     13560       sao carlos             SP  \n92643                     91330     porto alegre             RS  \n97647                      7261        guarulhos             SP  \n98038                      9431   ribeirao pires             SP  "
     },
     "execution_count": 218,
     "metadata": {},
     "output_type": "execute_result"
    }
   ],
   "source": [
    "customer_order_df.query('order_status == \"delivered\" and order_delivered_customer_date == 0')"
   ]
  },
  {
   "cell_type": "markdown",
   "metadata": {},
   "source": [
    "Как видно из отбора выше - есть 8 заказов со статусом 'delivered', но не имеющие дату доставки. Будем считать , что произошел какой-то сбой. В расчет я буду брать заказы со статусом \"delivered\""
   ]
  },
  {
   "cell_type": "code",
   "execution_count": 219,
   "metadata": {
    "ExecuteTime": {
     "end_time": "2023-12-23T15:32:56.530947Z",
     "start_time": "2023-12-23T15:32:56.188564Z"
    },
    "trusted": true
   },
   "outputs": [
    {
     "data": {
      "text/plain": "90557"
     },
     "execution_count": 219,
     "metadata": {},
     "output_type": "execute_result"
    }
   ],
   "source": [
    "customer_order_df.query('order_status == \"delivered\"') \\\n",
    "    .groupby('customer_unique_id', as_index = False) \\\n",
    "    .agg({'order_id' : 'count'}) \\\n",
    "    .sort_values('order_id', ascending = False) \\\n",
    "    .query('order_id == 1').customer_unique_id.count()"
   ]
  },
  {
   "cell_type": "markdown",
   "metadata": {},
   "source": [
    "Количество пользователей, совершивших только одну покупку - 90 557"
   ]
  },
  {
   "cell_type": "markdown",
   "metadata": {},
   "source": [
    "#### Ход решения: Объединил orders_df и customers_df , отобрал заказы со статусом \"delivered\" и оставил пользователей с одной покупкой"
   ]
  },
  {
   "cell_type": "markdown",
   "metadata": {},
   "source": [
    "## Задание_2: Сколько заказов в месяц в среднем не доставляется по разным причинам (вывести детализацию по причинам)?"
   ]
  },
  {
   "cell_type": "markdown",
   "metadata": {},
   "source": [
    "#### Введем в наш датасет новую колонку с обозначением месяца и года. Год нужен для подсчета числа уникальных месяцев за анализируемый период"
   ]
  },
  {
   "cell_type": "code",
   "execution_count": 220,
   "metadata": {
    "ExecuteTime": {
     "end_time": "2023-12-23T15:32:56.598598Z",
     "start_time": "2023-12-23T15:32:56.554749Z"
    },
    "trusted": true
   },
   "outputs": [],
   "source": [
    "customer_order_df.order_purchase_timestamp = customer_order_df.order_purchase_timestamp.astype(\"datetime64[ns]\")"
   ]
  },
  {
   "cell_type": "code",
   "execution_count": 221,
   "metadata": {
    "ExecuteTime": {
     "end_time": "2023-12-23T15:32:56.642658Z",
     "start_time": "2023-12-23T15:32:56.598535Z"
    },
    "trusted": true
   },
   "outputs": [],
   "source": [
    "customer_order_df = customer_order_df.assign(numb_month = customer_order_df[\"order_purchase_timestamp\"].dt.to_period(\"M\"))"
   ]
  },
  {
   "cell_type": "markdown",
   "metadata": {},
   "source": [
    "#### Для расчета среднемесячного числа не доставляемых заказов нам необходимо количество не доставленных заказов разделить на количество уникальных месяцев в анализируемом периоде"
   ]
  },
  {
   "cell_type": "code",
   "execution_count": 222,
   "metadata": {
    "ExecuteTime": {
     "end_time": "2023-12-23T15:32:56.645986Z",
     "start_time": "2023-12-23T15:32:56.642707Z"
    },
    "trusted": true
   },
   "outputs": [
    {
     "data": {
      "text/plain": "25"
     },
     "execution_count": 222,
     "metadata": {},
     "output_type": "execute_result"
    }
   ],
   "source": [
    "customer_order_df.numb_month.nunique() # Число уникальных месяцев в анализируемом периоде"
   ]
  },
  {
   "cell_type": "code",
   "execution_count": 223,
   "metadata": {
    "ExecuteTime": {
     "end_time": "2023-12-23T15:32:56.690887Z",
     "start_time": "2023-12-23T15:32:56.686736Z"
    },
    "trusted": true
   },
   "outputs": [
    {
     "data": {
      "text/plain": "2963"
     },
     "execution_count": 223,
     "metadata": {},
     "output_type": "execute_result"
    }
   ],
   "source": [
    "customer_order_df.query('order_status != \"delivered\"').order_id.count()\n",
    "# Количество не доставленных ордеров за анализируемый период"
   ]
  },
  {
   "cell_type": "code",
   "execution_count": 224,
   "metadata": {
    "ExecuteTime": {
     "end_time": "2023-12-23T15:32:56.717039Z",
     "start_time": "2023-12-23T15:32:56.688537Z"
    },
    "trusted": true
   },
   "outputs": [
    {
     "data": {
      "text/plain": "119.0"
     },
     "execution_count": 224,
     "metadata": {},
     "output_type": "execute_result"
    }
   ],
   "source": [
    "(customer_order_df.query('order_status != \"delivered\"').order_id.count()/customer_order_df.numb_month.nunique()).round(0)"
   ]
  },
  {
   "cell_type": "markdown",
   "metadata": {},
   "source": [
    "#### За анализируемый период в среднем не доставляется 119 заказов по разным причинам"
   ]
  },
  {
   "cell_type": "markdown",
   "metadata": {},
   "source": [
    "#### Теперь соберем и проанализируем таблицу с заказами, которые не были доставлены:"
   ]
  },
  {
   "cell_type": "code",
   "execution_count": 225,
   "metadata": {
    "ExecuteTime": {
     "end_time": "2023-12-23T15:32:56.763333Z",
     "start_time": "2023-12-23T15:32:56.717297Z"
    },
    "trusted": true
   },
   "outputs": [],
   "source": [
    "df_month = customer_order_df.query('order_status != \"delivered\"').groupby('order_status', as_index = False) \\\n",
    "    .agg({'order_id' : 'count'}).rename(columns = {'order_id' : 'count_order_not_delivery'})"
   ]
  },
  {
   "cell_type": "code",
   "execution_count": 226,
   "metadata": {
    "ExecuteTime": {
     "end_time": "2023-12-23T15:32:56.808104Z",
     "start_time": "2023-12-23T15:32:56.806451Z"
    },
    "trusted": true
   },
   "outputs": [],
   "source": [
    "df_month = df_month.assign(average_per_month = df_month.count_order_not_delivery / customer_order_df.numb_month.nunique())\n",
    "df_month = df_month.assign(percentage = df_month.count_order_not_delivery / df_month.count_order_not_delivery.sum() * 100).round(1)"
   ]
  },
  {
   "cell_type": "code",
   "execution_count": 227,
   "metadata": {
    "ExecuteTime": {
     "end_time": "2023-12-23T15:32:56.869821Z",
     "start_time": "2023-12-23T15:32:56.806711Z"
    },
    "trusted": true
   },
   "outputs": [
    {
     "data": {
      "text/html": "<div>\n<style scoped>\n    .dataframe tbody tr th:only-of-type {\n        vertical-align: middle;\n    }\n\n    .dataframe tbody tr th {\n        vertical-align: top;\n    }\n\n    .dataframe thead th {\n        text-align: right;\n    }\n</style>\n<table border=\"1\" class=\"dataframe\">\n  <thead>\n    <tr style=\"text-align: right;\">\n      <th></th>\n      <th>order_status</th>\n      <th>count_order_not_delivery</th>\n      <th>average_per_month</th>\n      <th>percentage</th>\n    </tr>\n  </thead>\n  <tbody>\n    <tr>\n      <th>0</th>\n      <td>approved</td>\n      <td>2</td>\n      <td>0.1</td>\n      <td>0.1</td>\n    </tr>\n    <tr>\n      <th>1</th>\n      <td>canceled</td>\n      <td>625</td>\n      <td>25.0</td>\n      <td>21.1</td>\n    </tr>\n    <tr>\n      <th>2</th>\n      <td>created</td>\n      <td>5</td>\n      <td>0.2</td>\n      <td>0.2</td>\n    </tr>\n    <tr>\n      <th>3</th>\n      <td>invoiced</td>\n      <td>314</td>\n      <td>12.6</td>\n      <td>10.6</td>\n    </tr>\n    <tr>\n      <th>4</th>\n      <td>processing</td>\n      <td>301</td>\n      <td>12.0</td>\n      <td>10.2</td>\n    </tr>\n    <tr>\n      <th>5</th>\n      <td>shipped</td>\n      <td>1107</td>\n      <td>44.3</td>\n      <td>37.4</td>\n    </tr>\n    <tr>\n      <th>6</th>\n      <td>unavailable</td>\n      <td>609</td>\n      <td>24.4</td>\n      <td>20.6</td>\n    </tr>\n  </tbody>\n</table>\n</div>",
      "text/plain": "  order_status  count_order_not_delivery  average_per_month  percentage\n0     approved                         2                0.1         0.1\n1     canceled                       625               25.0        21.1\n2      created                         5                0.2         0.2\n3     invoiced                       314               12.6        10.6\n4   processing                       301               12.0        10.2\n5      shipped                      1107               44.3        37.4\n6  unavailable                       609               24.4        20.6"
     },
     "execution_count": 227,
     "metadata": {},
     "output_type": "execute_result"
    }
   ],
   "source": [
    "df_month"
   ]
  },
  {
   "cell_type": "markdown",
   "metadata": {},
   "source": [
    "### Оценочные причины, по которым не доставляются заказы: \n",
    "- Ордеры со статусом \"approved\" по какой-то причине не были переданы в логистическую службу, такие случаи происходят довольно редко, в среднем 0.1 случая в месяц;\n",
    "- Ордеры со статусом \"canceled\" могли быть отменены как по вине исполнителя, так и по вине заказчика, потому что часть заказов имеет подтверждение оплаты покупателем, но заказ не был передан в логистическую службу. Также есть заказы с подтвержденной оплатой,которые были переданы в логистическую службу и даже назначена дата доставки, но в итоге все равно не доставлены. И еще по части заказов не подтверждена оплата, что говорит о отмене заказа из-за не оплаты пользователем. В среднем такие случаи происходят довольно часто в среднем 25 раз в месяц;\n",
    "- Ордеры со статусом \"created\" не были оплачены заказчиками, такие случаи происходят в среднем 0.2 раза в месяц;\n",
    "- Ордеры со статусом \"invoiced\" по какой-то причине не были переданы в логистическую службу. Подобные случаи происходят в среднем 12.6 раз в месяц;\n",
    "- Ордеры со статусом \"processing\" несмотря на оплату заказчиками также не были переданы в логистическую службу, видимо произошел какой-то сбой, такие случаи происходят в среднем - 12.0 раз в месяц\n",
    "- Ордеры со статусом \"shipped\" не были доставлены по причине какого-то сбоя, такие случаи являются самыми частыми в среднем 44.3 раза в месяц;\n",
    "- Ордеры со статусом \"unavailable\" не доставляются в среднем 24.4 раза в месяц\n",
    "\n"
   ]
  },
  {
   "cell_type": "markdown",
   "metadata": {},
   "source": [
    "## Задание_3: По каждому товару определить, в какой день недели товар чаще всего покупается."
   ]
  },
  {
   "cell_type": "markdown",
   "metadata": {},
   "source": [
    "Для того, чтобы расчитать самый популярный день недели для каждого продукта необходимо соединить датасет с продуктами и датасет с заказами. Затем посчитать количество заказов по дням недели и оставить самый популярный день для каждого продукта. Также берем в расчет только ордеры со статусом \"delivered\"."
   ]
  },
  {
   "cell_type": "code",
   "execution_count": 228,
   "metadata": {
    "ExecuteTime": {
     "end_time": "2023-12-23T15:32:57.181542Z",
     "start_time": "2023-12-23T15:32:56.849537Z"
    },
    "trusted": true
   },
   "outputs": [],
   "source": [
    "product_df = pd.read_csv('olist_order_items_dataset.csv') #импортируем датасет с продуктами"
   ]
  },
  {
   "cell_type": "code",
   "execution_count": 229,
   "metadata": {
    "ExecuteTime": {
     "end_time": "2023-12-23T15:32:57.229373Z",
     "start_time": "2023-12-23T15:32:57.181510Z"
    },
    "trusted": true
   },
   "outputs": [
    {
     "data": {
      "text/html": "<div>\n<style scoped>\n    .dataframe tbody tr th:only-of-type {\n        vertical-align: middle;\n    }\n\n    .dataframe tbody tr th {\n        vertical-align: top;\n    }\n\n    .dataframe thead th {\n        text-align: right;\n    }\n</style>\n<table border=\"1\" class=\"dataframe\">\n  <thead>\n    <tr style=\"text-align: right;\">\n      <th></th>\n      <th>order_id</th>\n      <th>order_item_id</th>\n      <th>product_id</th>\n      <th>seller_id</th>\n      <th>shipping_limit_date</th>\n      <th>price</th>\n      <th>freight_value</th>\n    </tr>\n  </thead>\n  <tbody>\n    <tr>\n      <th>0</th>\n      <td>00010242fe8c5a6d1ba2dd792cb16214</td>\n      <td>1</td>\n      <td>4244733e06e7ecb4970a6e2683c13e61</td>\n      <td>48436dade18ac8b2bce089ec2a041202</td>\n      <td>2017-09-19 09:45:35</td>\n      <td>58.90</td>\n      <td>13.29</td>\n    </tr>\n    <tr>\n      <th>1</th>\n      <td>00018f77f2f0320c557190d7a144bdd3</td>\n      <td>1</td>\n      <td>e5f2d52b802189ee658865ca93d83a8f</td>\n      <td>dd7ddc04e1b6c2c614352b383efe2d36</td>\n      <td>2017-05-03 11:05:13</td>\n      <td>239.90</td>\n      <td>19.93</td>\n    </tr>\n    <tr>\n      <th>2</th>\n      <td>000229ec398224ef6ca0657da4fc703e</td>\n      <td>1</td>\n      <td>c777355d18b72b67abbeef9df44fd0fd</td>\n      <td>5b51032eddd242adc84c38acab88f23d</td>\n      <td>2018-01-18 14:48:30</td>\n      <td>199.00</td>\n      <td>17.87</td>\n    </tr>\n    <tr>\n      <th>3</th>\n      <td>00024acbcdf0a6daa1e931b038114c75</td>\n      <td>1</td>\n      <td>7634da152a4610f1595efa32f14722fc</td>\n      <td>9d7a1d34a5052409006425275ba1c2b4</td>\n      <td>2018-08-15 10:10:18</td>\n      <td>12.99</td>\n      <td>12.79</td>\n    </tr>\n    <tr>\n      <th>4</th>\n      <td>00042b26cf59d7ce69dfabb4e55b4fd9</td>\n      <td>1</td>\n      <td>ac6c3623068f30de03045865e4e10089</td>\n      <td>df560393f3a51e74553ab94004ba5c87</td>\n      <td>2017-02-13 13:57:51</td>\n      <td>199.90</td>\n      <td>18.14</td>\n    </tr>\n  </tbody>\n</table>\n</div>",
      "text/plain": "                           order_id  order_item_id  \\\n0  00010242fe8c5a6d1ba2dd792cb16214              1   \n1  00018f77f2f0320c557190d7a144bdd3              1   \n2  000229ec398224ef6ca0657da4fc703e              1   \n3  00024acbcdf0a6daa1e931b038114c75              1   \n4  00042b26cf59d7ce69dfabb4e55b4fd9              1   \n\n                         product_id                         seller_id  \\\n0  4244733e06e7ecb4970a6e2683c13e61  48436dade18ac8b2bce089ec2a041202   \n1  e5f2d52b802189ee658865ca93d83a8f  dd7ddc04e1b6c2c614352b383efe2d36   \n2  c777355d18b72b67abbeef9df44fd0fd  5b51032eddd242adc84c38acab88f23d   \n3  7634da152a4610f1595efa32f14722fc  9d7a1d34a5052409006425275ba1c2b4   \n4  ac6c3623068f30de03045865e4e10089  df560393f3a51e74553ab94004ba5c87   \n\n   shipping_limit_date   price  freight_value  \n0  2017-09-19 09:45:35   58.90          13.29  \n1  2017-05-03 11:05:13  239.90          19.93  \n2  2018-01-18 14:48:30  199.00          17.87  \n3  2018-08-15 10:10:18   12.99          12.79  \n4  2017-02-13 13:57:51  199.90          18.14  "
     },
     "execution_count": 229,
     "metadata": {},
     "output_type": "execute_result"
    }
   ],
   "source": [
    "product_df.head()"
   ]
  },
  {
   "cell_type": "code",
   "execution_count": 230,
   "metadata": {
    "ExecuteTime": {
     "end_time": "2023-12-23T15:32:57.534069Z",
     "start_time": "2023-12-23T15:32:57.213511Z"
    },
    "trusted": true
   },
   "outputs": [],
   "source": [
    "prod_ord = orders_df.merge(product_df, how = 'left', on ='order_id') \n",
    "#Мерджим product_df к orders_df, потому что orders_df содержит даты создания заказа, из которых мы сможем извлечь\n",
    "#дни недели"
   ]
  },
  {
   "cell_type": "code",
   "execution_count": 231,
   "metadata": {
    "ExecuteTime": {
     "end_time": "2023-12-23T15:32:57.534681Z",
     "start_time": "2023-12-23T15:32:57.534531Z"
    },
    "trusted": true
   },
   "outputs": [],
   "source": [
    "prod_ord.order_purchase_timestamp = prod_ord.order_purchase_timestamp.astype(\"datetime64[ns]\")\n",
    "#Меняем формат на datetime64, чтобы извлечь название дня недели"
   ]
  },
  {
   "cell_type": "code",
   "execution_count": 232,
   "metadata": {
    "ExecuteTime": {
     "end_time": "2023-12-23T15:32:57.548430Z",
     "start_time": "2023-12-23T15:32:57.539162Z"
    },
    "trusted": true
   },
   "outputs": [],
   "source": [
    "prod_ord = prod_ord.assign(day_week = prod_ord.order_purchase_timestamp.dt.day_name()) \n",
    "#Добавляем колонку с днем недели, в который был создан заказ"
   ]
  },
  {
   "cell_type": "code",
   "execution_count": 233,
   "metadata": {
    "ExecuteTime": {
     "start_time": "2023-12-23T15:32:57.583577Z"
    },
    "trusted": true
   },
   "outputs": [
    {
     "data": {
      "text/html": "<div>\n<style scoped>\n    .dataframe tbody tr th:only-of-type {\n        vertical-align: middle;\n    }\n\n    .dataframe tbody tr th {\n        vertical-align: top;\n    }\n\n    .dataframe thead th {\n        text-align: right;\n    }\n</style>\n<table border=\"1\" class=\"dataframe\">\n  <thead>\n    <tr style=\"text-align: right;\">\n      <th></th>\n      <th>order_id</th>\n      <th>customer_id</th>\n      <th>order_status</th>\n      <th>order_purchase_timestamp</th>\n      <th>order_approved_at</th>\n      <th>order_delivered_carrier_date</th>\n      <th>order_delivered_customer_date</th>\n      <th>order_estimated_delivery_date</th>\n      <th>order_item_id</th>\n      <th>product_id</th>\n      <th>seller_id</th>\n      <th>shipping_limit_date</th>\n      <th>price</th>\n      <th>freight_value</th>\n      <th>day_week</th>\n    </tr>\n  </thead>\n  <tbody>\n    <tr>\n      <th>0</th>\n      <td>e481f51cbdc54678b7cc49136f2d6af7</td>\n      <td>9ef432eb6251297304e76186b10a928d</td>\n      <td>delivered</td>\n      <td>2017-10-02 10:56:33</td>\n      <td>2017-10-02 11:07:15</td>\n      <td>2017-10-04 19:55:00</td>\n      <td>2017-10-10 21:25:13</td>\n      <td>2017-10-18 00:00:00</td>\n      <td>1.0</td>\n      <td>87285b34884572647811a353c7ac498a</td>\n      <td>3504c0cb71d7fa48d967e0e4c94d59d9</td>\n      <td>2017-10-06 11:07:15</td>\n      <td>29.99</td>\n      <td>8.72</td>\n      <td>Monday</td>\n    </tr>\n    <tr>\n      <th>1</th>\n      <td>53cdb2fc8bc7dce0b6741e2150273451</td>\n      <td>b0830fb4747a6c6d20dea0b8c802d7ef</td>\n      <td>delivered</td>\n      <td>2018-07-24 20:41:37</td>\n      <td>2018-07-26 03:24:27</td>\n      <td>2018-07-26 14:31:00</td>\n      <td>2018-08-07 15:27:45</td>\n      <td>2018-08-13 00:00:00</td>\n      <td>1.0</td>\n      <td>595fac2a385ac33a80bd5114aec74eb8</td>\n      <td>289cdb325fb7e7f891c38608bf9e0962</td>\n      <td>2018-07-30 03:24:27</td>\n      <td>118.70</td>\n      <td>22.76</td>\n      <td>Tuesday</td>\n    </tr>\n    <tr>\n      <th>2</th>\n      <td>47770eb9100c2d0c44946d9cf07ec65d</td>\n      <td>41ce2a54c0b03bf3443c3d931a367089</td>\n      <td>delivered</td>\n      <td>2018-08-08 08:38:49</td>\n      <td>2018-08-08 08:55:23</td>\n      <td>2018-08-08 13:50:00</td>\n      <td>2018-08-17 18:06:29</td>\n      <td>2018-09-04 00:00:00</td>\n      <td>1.0</td>\n      <td>aa4383b373c6aca5d8797843e5594415</td>\n      <td>4869f7a5dfa277a7dca6462dcf3b52b2</td>\n      <td>2018-08-13 08:55:23</td>\n      <td>159.90</td>\n      <td>19.22</td>\n      <td>Wednesday</td>\n    </tr>\n    <tr>\n      <th>3</th>\n      <td>949d5b44dbf5de918fe9c16f97b45f8a</td>\n      <td>f88197465ea7920adcdbec7375364d82</td>\n      <td>delivered</td>\n      <td>2017-11-18 19:28:06</td>\n      <td>2017-11-18 19:45:59</td>\n      <td>2017-11-22 13:39:59</td>\n      <td>2017-12-02 00:28:42</td>\n      <td>2017-12-15 00:00:00</td>\n      <td>1.0</td>\n      <td>d0b61bfb1de832b15ba9d266ca96e5b0</td>\n      <td>66922902710d126a0e7d26b0e3805106</td>\n      <td>2017-11-23 19:45:59</td>\n      <td>45.00</td>\n      <td>27.20</td>\n      <td>Saturday</td>\n    </tr>\n    <tr>\n      <th>4</th>\n      <td>ad21c59c0840e6cb83a9ceb5573f8159</td>\n      <td>8ab97904e6daea8866dbdbc4fb7aad2c</td>\n      <td>delivered</td>\n      <td>2018-02-13 21:18:39</td>\n      <td>2018-02-13 22:20:29</td>\n      <td>2018-02-14 19:46:34</td>\n      <td>2018-02-16 18:17:02</td>\n      <td>2018-02-26 00:00:00</td>\n      <td>1.0</td>\n      <td>65266b2da20d04dbe00c5c2d3bb7859e</td>\n      <td>2c9e548be18521d1c43cde1c582c6de8</td>\n      <td>2018-02-19 20:31:37</td>\n      <td>19.90</td>\n      <td>8.72</td>\n      <td>Tuesday</td>\n    </tr>\n  </tbody>\n</table>\n</div>",
      "text/plain": "                           order_id                       customer_id  \\\n0  e481f51cbdc54678b7cc49136f2d6af7  9ef432eb6251297304e76186b10a928d   \n1  53cdb2fc8bc7dce0b6741e2150273451  b0830fb4747a6c6d20dea0b8c802d7ef   \n2  47770eb9100c2d0c44946d9cf07ec65d  41ce2a54c0b03bf3443c3d931a367089   \n3  949d5b44dbf5de918fe9c16f97b45f8a  f88197465ea7920adcdbec7375364d82   \n4  ad21c59c0840e6cb83a9ceb5573f8159  8ab97904e6daea8866dbdbc4fb7aad2c   \n\n  order_status order_purchase_timestamp    order_approved_at  \\\n0    delivered      2017-10-02 10:56:33  2017-10-02 11:07:15   \n1    delivered      2018-07-24 20:41:37  2018-07-26 03:24:27   \n2    delivered      2018-08-08 08:38:49  2018-08-08 08:55:23   \n3    delivered      2017-11-18 19:28:06  2017-11-18 19:45:59   \n4    delivered      2018-02-13 21:18:39  2018-02-13 22:20:29   \n\n  order_delivered_carrier_date order_delivered_customer_date  \\\n0          2017-10-04 19:55:00           2017-10-10 21:25:13   \n1          2018-07-26 14:31:00           2018-08-07 15:27:45   \n2          2018-08-08 13:50:00           2018-08-17 18:06:29   \n3          2017-11-22 13:39:59           2017-12-02 00:28:42   \n4          2018-02-14 19:46:34           2018-02-16 18:17:02   \n\n  order_estimated_delivery_date  order_item_id  \\\n0           2017-10-18 00:00:00            1.0   \n1           2018-08-13 00:00:00            1.0   \n2           2018-09-04 00:00:00            1.0   \n3           2017-12-15 00:00:00            1.0   \n4           2018-02-26 00:00:00            1.0   \n\n                         product_id                         seller_id  \\\n0  87285b34884572647811a353c7ac498a  3504c0cb71d7fa48d967e0e4c94d59d9   \n1  595fac2a385ac33a80bd5114aec74eb8  289cdb325fb7e7f891c38608bf9e0962   \n2  aa4383b373c6aca5d8797843e5594415  4869f7a5dfa277a7dca6462dcf3b52b2   \n3  d0b61bfb1de832b15ba9d266ca96e5b0  66922902710d126a0e7d26b0e3805106   \n4  65266b2da20d04dbe00c5c2d3bb7859e  2c9e548be18521d1c43cde1c582c6de8   \n\n   shipping_limit_date   price  freight_value   day_week  \n0  2017-10-06 11:07:15   29.99           8.72     Monday  \n1  2018-07-30 03:24:27  118.70          22.76    Tuesday  \n2  2018-08-13 08:55:23  159.90          19.22  Wednesday  \n3  2017-11-23 19:45:59   45.00          27.20   Saturday  \n4  2018-02-19 20:31:37   19.90           8.72    Tuesday  "
     },
     "execution_count": 233,
     "metadata": {},
     "output_type": "execute_result"
    }
   ],
   "source": [
    "prod_ord.head()"
   ]
  },
  {
   "cell_type": "code",
   "execution_count": 234,
   "metadata": {
    "ExecuteTime": {
     "end_time": "2023-12-23T15:32:57.651387Z",
     "start_time": "2023-12-23T15:32:57.584625Z"
    },
    "trusted": true
   },
   "outputs": [
    {
     "data": {
      "text/plain": "32951"
     },
     "execution_count": 234,
     "metadata": {},
     "output_type": "execute_result"
    }
   ],
   "source": [
    "prod_ord.product_id.nunique() #Количество уникальных товаров для проверки"
   ]
  },
  {
   "cell_type": "code",
   "execution_count": 235,
   "metadata": {
    "ExecuteTime": {
     "end_time": "2023-12-23T15:32:58.016402Z",
     "start_time": "2023-12-23T15:32:57.629608Z"
    },
    "trusted": true
   },
   "outputs": [
    {
     "data": {
      "text/html": "<div>\n<style scoped>\n    .dataframe tbody tr th:only-of-type {\n        vertical-align: middle;\n    }\n\n    .dataframe tbody tr th {\n        vertical-align: top;\n    }\n\n    .dataframe thead th {\n        text-align: right;\n    }\n</style>\n<table border=\"1\" class=\"dataframe\">\n  <thead>\n    <tr style=\"text-align: right;\">\n      <th></th>\n      <th>product_id</th>\n      <th>day_week</th>\n      <th>max_count_orders</th>\n    </tr>\n  </thead>\n  <tbody>\n    <tr>\n      <th>15597</th>\n      <td>422879e10f46682990de24d770e7f83d</td>\n      <td>Wednesday</td>\n      <td>93</td>\n    </tr>\n    <tr>\n      <th>35751</th>\n      <td>99a4788cb24856965c36a24e339b6058</td>\n      <td>Monday</td>\n      <td>91</td>\n    </tr>\n    <tr>\n      <th>40183</th>\n      <td>aca2eb7d00ea1a7b8ebd4e68314663af</td>\n      <td>Thursday</td>\n      <td>89</td>\n    </tr>\n    <tr>\n      <th>19711</th>\n      <td>53b36df67ebb7c41585e8d54d6772e08</td>\n      <td>Tuesday</td>\n      <td>76</td>\n    </tr>\n    <tr>\n      <th>13271</th>\n      <td>389d119b48cf3043d311335e499d9c6b</td>\n      <td>Thursday</td>\n      <td>67</td>\n    </tr>\n    <tr>\n      <th>...</th>\n      <td>...</td>\n      <td>...</td>\n      <td>...</td>\n    </tr>\n    <tr>\n      <th>23483</th>\n      <td>64123627d4116a2bc8284f1bc0a257f3</td>\n      <td>Saturday</td>\n      <td>1</td>\n    </tr>\n    <tr>\n      <th>23491</th>\n      <td>6413f8d0daa3a38887a14917589e7da5</td>\n      <td>Wednesday</td>\n      <td>1</td>\n    </tr>\n    <tr>\n      <th>23493</th>\n      <td>641444946fe3a839d726c32804cd1aff</td>\n      <td>Tuesday</td>\n      <td>1</td>\n    </tr>\n    <tr>\n      <th>23494</th>\n      <td>6416e0ecd625ef4adf18658a9aca2e10</td>\n      <td>Thursday</td>\n      <td>1</td>\n    </tr>\n    <tr>\n      <th>59952</th>\n      <td>fffe9eeff12fcbd74a2f2b007dde0c58</td>\n      <td>Wednesday</td>\n      <td>1</td>\n    </tr>\n  </tbody>\n</table>\n<p>32216 rows × 3 columns</p>\n</div>",
      "text/plain": "                             product_id   day_week  max_count_orders\n15597  422879e10f46682990de24d770e7f83d  Wednesday                93\n35751  99a4788cb24856965c36a24e339b6058     Monday                91\n40183  aca2eb7d00ea1a7b8ebd4e68314663af   Thursday                89\n19711  53b36df67ebb7c41585e8d54d6772e08    Tuesday                76\n13271  389d119b48cf3043d311335e499d9c6b   Thursday                67\n...                                 ...        ...               ...\n23483  64123627d4116a2bc8284f1bc0a257f3   Saturday                 1\n23491  6413f8d0daa3a38887a14917589e7da5  Wednesday                 1\n23493  641444946fe3a839d726c32804cd1aff    Tuesday                 1\n23494  6416e0ecd625ef4adf18658a9aca2e10   Thursday                 1\n59952  fffe9eeff12fcbd74a2f2b007dde0c58  Wednesday                 1\n\n[32216 rows x 3 columns]"
     },
     "execution_count": 235,
     "metadata": {},
     "output_type": "execute_result"
    }
   ],
   "source": [
    "prod_ord.query('order_status == \"delivered\"').groupby(['product_id','day_week'], as_index = False) \\\n",
    "    .agg({'order_id' : 'count'}).sort_values('order_id', ascending = False) \\\n",
    "    .drop_duplicates(subset = 'product_id') \\\n",
    "    .rename(columns ={'order_id' : 'max_count_orders'})"
   ]
  },
  {
   "cell_type": "markdown",
   "metadata": {},
   "source": [
    "## Задание_4: Сколько у каждого из пользователей в среднем покупок в неделю (по месяцам)? Не стоит забывать, что внутри месяца может быть не целое количество недель. Например, в ноябре 2021 года 4,28 недели. И внутри метрики это нужно учесть."
   ]
  },
  {
   "cell_type": "markdown",
   "metadata": {},
   "source": [
    "Буду продолжать расчеты согласно озвученной выше логике - покупкой считается только завершенный заказ с отметкой \"delivered\""
   ]
  },
  {
   "cell_type": "code",
   "execution_count": 236,
   "metadata": {
    "ExecuteTime": {
     "end_time": "2023-12-23T15:32:58.501020Z",
     "start_time": "2023-12-23T15:32:58.005600Z"
    },
    "trusted": true
   },
   "outputs": [],
   "source": [
    "customer_order_df = orders_df.merge(customers_df, on = 'customer_id').fillna(0) #Объединяем датафреймы"
   ]
  },
  {
   "cell_type": "code",
   "execution_count": 237,
   "metadata": {
    "ExecuteTime": {
     "end_time": "2023-12-23T15:32:58.511933Z",
     "start_time": "2023-12-23T15:32:58.504999Z"
    },
    "trusted": true
   },
   "outputs": [],
   "source": [
    "customer_order_df.order_purchase_timestamp  = customer_order_df.order_purchase_timestamp.astype(\"datetime64[ns]\")\n",
    "customer_order_df['order_purchase_timestamp'] = customer_order_df[\"order_purchase_timestamp\"].dt.to_period(\"M\")\n",
    "#Если не выделить год, то данные по месяцам задвоятся"
   ]
  },
  {
   "cell_type": "code",
   "execution_count": 238,
   "metadata": {
    "ExecuteTime": {
     "end_time": "2023-12-23T15:32:58.513715Z",
     "start_time": "2023-12-23T15:32:58.507091Z"
    },
    "trusted": true
   },
   "outputs": [],
   "source": [
    "customer_order_df['count_weeks'] = (customer_order_df.order_purchase_timestamp.dt.days_in_month/7).round(2)\n",
    "#Создаем колонку с количеством недель в месяце, нужно также для расчета среднего числа покупок"
   ]
  },
  {
   "cell_type": "code",
   "execution_count": 239,
   "metadata": {
    "ExecuteTime": {
     "start_time": "2023-12-23T15:32:58.550647Z"
    },
    "trusted": true
   },
   "outputs": [
    {
     "data": {
      "text/html": "<div>\n<style scoped>\n    .dataframe tbody tr th:only-of-type {\n        vertical-align: middle;\n    }\n\n    .dataframe tbody tr th {\n        vertical-align: top;\n    }\n\n    .dataframe thead th {\n        text-align: right;\n    }\n</style>\n<table border=\"1\" class=\"dataframe\">\n  <thead>\n    <tr style=\"text-align: right;\">\n      <th></th>\n      <th>order_id</th>\n      <th>customer_id</th>\n      <th>order_status</th>\n      <th>order_purchase_timestamp</th>\n      <th>order_approved_at</th>\n      <th>order_delivered_carrier_date</th>\n      <th>order_delivered_customer_date</th>\n      <th>order_estimated_delivery_date</th>\n      <th>customer_unique_id</th>\n      <th>customer_zip_code_prefix</th>\n      <th>customer_city</th>\n      <th>customer_state</th>\n      <th>count_weeks</th>\n    </tr>\n  </thead>\n  <tbody>\n    <tr>\n      <th>0</th>\n      <td>e481f51cbdc54678b7cc49136f2d6af7</td>\n      <td>9ef432eb6251297304e76186b10a928d</td>\n      <td>delivered</td>\n      <td>2017-10</td>\n      <td>2017-10-02 11:07:15</td>\n      <td>2017-10-04 19:55:00</td>\n      <td>2017-10-10 21:25:13</td>\n      <td>2017-10-18 00:00:00</td>\n      <td>7c396fd4830fd04220f754e42b4e5bff</td>\n      <td>3149</td>\n      <td>sao paulo</td>\n      <td>SP</td>\n      <td>4.43</td>\n    </tr>\n    <tr>\n      <th>1</th>\n      <td>53cdb2fc8bc7dce0b6741e2150273451</td>\n      <td>b0830fb4747a6c6d20dea0b8c802d7ef</td>\n      <td>delivered</td>\n      <td>2018-07</td>\n      <td>2018-07-26 03:24:27</td>\n      <td>2018-07-26 14:31:00</td>\n      <td>2018-08-07 15:27:45</td>\n      <td>2018-08-13 00:00:00</td>\n      <td>af07308b275d755c9edb36a90c618231</td>\n      <td>47813</td>\n      <td>barreiras</td>\n      <td>BA</td>\n      <td>4.43</td>\n    </tr>\n    <tr>\n      <th>2</th>\n      <td>47770eb9100c2d0c44946d9cf07ec65d</td>\n      <td>41ce2a54c0b03bf3443c3d931a367089</td>\n      <td>delivered</td>\n      <td>2018-08</td>\n      <td>2018-08-08 08:55:23</td>\n      <td>2018-08-08 13:50:00</td>\n      <td>2018-08-17 18:06:29</td>\n      <td>2018-09-04 00:00:00</td>\n      <td>3a653a41f6f9fc3d2a113cf8398680e8</td>\n      <td>75265</td>\n      <td>vianopolis</td>\n      <td>GO</td>\n      <td>4.43</td>\n    </tr>\n    <tr>\n      <th>3</th>\n      <td>949d5b44dbf5de918fe9c16f97b45f8a</td>\n      <td>f88197465ea7920adcdbec7375364d82</td>\n      <td>delivered</td>\n      <td>2017-11</td>\n      <td>2017-11-18 19:45:59</td>\n      <td>2017-11-22 13:39:59</td>\n      <td>2017-12-02 00:28:42</td>\n      <td>2017-12-15 00:00:00</td>\n      <td>7c142cf63193a1473d2e66489a9ae977</td>\n      <td>59296</td>\n      <td>sao goncalo do amarante</td>\n      <td>RN</td>\n      <td>4.29</td>\n    </tr>\n    <tr>\n      <th>4</th>\n      <td>ad21c59c0840e6cb83a9ceb5573f8159</td>\n      <td>8ab97904e6daea8866dbdbc4fb7aad2c</td>\n      <td>delivered</td>\n      <td>2018-02</td>\n      <td>2018-02-13 22:20:29</td>\n      <td>2018-02-14 19:46:34</td>\n      <td>2018-02-16 18:17:02</td>\n      <td>2018-02-26 00:00:00</td>\n      <td>72632f0f9dd73dfee390c9b22eb56dd6</td>\n      <td>9195</td>\n      <td>santo andre</td>\n      <td>SP</td>\n      <td>4.00</td>\n    </tr>\n  </tbody>\n</table>\n</div>",
      "text/plain": "                           order_id                       customer_id  \\\n0  e481f51cbdc54678b7cc49136f2d6af7  9ef432eb6251297304e76186b10a928d   \n1  53cdb2fc8bc7dce0b6741e2150273451  b0830fb4747a6c6d20dea0b8c802d7ef   \n2  47770eb9100c2d0c44946d9cf07ec65d  41ce2a54c0b03bf3443c3d931a367089   \n3  949d5b44dbf5de918fe9c16f97b45f8a  f88197465ea7920adcdbec7375364d82   \n4  ad21c59c0840e6cb83a9ceb5573f8159  8ab97904e6daea8866dbdbc4fb7aad2c   \n\n  order_status order_purchase_timestamp    order_approved_at  \\\n0    delivered                  2017-10  2017-10-02 11:07:15   \n1    delivered                  2018-07  2018-07-26 03:24:27   \n2    delivered                  2018-08  2018-08-08 08:55:23   \n3    delivered                  2017-11  2017-11-18 19:45:59   \n4    delivered                  2018-02  2018-02-13 22:20:29   \n\n  order_delivered_carrier_date order_delivered_customer_date  \\\n0          2017-10-04 19:55:00           2017-10-10 21:25:13   \n1          2018-07-26 14:31:00           2018-08-07 15:27:45   \n2          2018-08-08 13:50:00           2018-08-17 18:06:29   \n3          2017-11-22 13:39:59           2017-12-02 00:28:42   \n4          2018-02-14 19:46:34           2018-02-16 18:17:02   \n\n  order_estimated_delivery_date                customer_unique_id  \\\n0           2017-10-18 00:00:00  7c396fd4830fd04220f754e42b4e5bff   \n1           2018-08-13 00:00:00  af07308b275d755c9edb36a90c618231   \n2           2018-09-04 00:00:00  3a653a41f6f9fc3d2a113cf8398680e8   \n3           2017-12-15 00:00:00  7c142cf63193a1473d2e66489a9ae977   \n4           2018-02-26 00:00:00  72632f0f9dd73dfee390c9b22eb56dd6   \n\n   customer_zip_code_prefix            customer_city customer_state  \\\n0                      3149                sao paulo             SP   \n1                     47813                barreiras             BA   \n2                     75265               vianopolis             GO   \n3                     59296  sao goncalo do amarante             RN   \n4                      9195              santo andre             SP   \n\n   count_weeks  \n0         4.43  \n1         4.43  \n2         4.43  \n3         4.29  \n4         4.00  "
     },
     "execution_count": 239,
     "metadata": {},
     "output_type": "execute_result"
    }
   ],
   "source": [
    "customer_order_df.head()"
   ]
  },
  {
   "cell_type": "code",
   "execution_count": 240,
   "metadata": {
    "ExecuteTime": {
     "end_time": "2023-12-23T15:32:59.129299Z",
     "start_time": "2023-12-23T15:32:58.550947Z"
    },
    "trusted": true
   },
   "outputs": [],
   "source": [
    "customer_ord_avg = customer_order_df.query('order_status == \"delivered\"') \\\n",
    "    .groupby(['customer_unique_id','order_purchase_timestamp','count_weeks'], as_index=False) \\\n",
    "    .agg({'order_id':'count'}) \\\n",
    "    .groupby(['customer_unique_id','order_purchase_timestamp','count_weeks'],as_index=False) \\\n",
    "    .agg({'order_id':'sum'}) \\\n",
    "    .rename(columns = {'order_purchase_timestamp' : 'month', 'order_id' : 'all_orders'})"
   ]
  },
  {
   "cell_type": "code",
   "execution_count": 241,
   "metadata": {
    "ExecuteTime": {
     "end_time": "2023-12-23T15:32:59.133071Z",
     "start_time": "2023-12-23T15:32:59.129539Z"
    },
    "trusted": true
   },
   "outputs": [],
   "source": [
    "customer_ord_avg['avg_orders_per_week'] = (customer_ord_avg['all_orders'] / customer_ord_avg['count_weeks']).round(2)\n",
    "#Считаем среднее число покупок в неделю по месяц"
   ]
  },
  {
   "cell_type": "code",
   "execution_count": 242,
   "metadata": {
    "ExecuteTime": {
     "end_time": "2023-12-23T15:32:59.169451Z",
     "start_time": "2023-12-23T15:32:59.129732Z"
    },
    "trusted": true
   },
   "outputs": [
    {
     "data": {
      "text/html": "<div>\n<style scoped>\n    .dataframe tbody tr th:only-of-type {\n        vertical-align: middle;\n    }\n\n    .dataframe tbody tr th {\n        vertical-align: top;\n    }\n\n    .dataframe thead th {\n        text-align: right;\n    }\n</style>\n<table border=\"1\" class=\"dataframe\">\n  <thead>\n    <tr style=\"text-align: right;\">\n      <th></th>\n      <th>customer_unique_id</th>\n      <th>month</th>\n      <th>count_weeks</th>\n      <th>all_orders</th>\n      <th>avg_orders_per_week</th>\n    </tr>\n  </thead>\n  <tbody>\n    <tr>\n      <th>0</th>\n      <td>0000366f3b9a7992bf8c76cfdf3221e2</td>\n      <td>2018-05</td>\n      <td>4.43</td>\n      <td>1</td>\n      <td>0.23</td>\n    </tr>\n    <tr>\n      <th>1</th>\n      <td>0000b849f77a49e4a4ce2b2a4ca5be3f</td>\n      <td>2018-05</td>\n      <td>4.43</td>\n      <td>1</td>\n      <td>0.23</td>\n    </tr>\n    <tr>\n      <th>2</th>\n      <td>0000f46a3911fa3c0805444483337064</td>\n      <td>2017-03</td>\n      <td>4.43</td>\n      <td>1</td>\n      <td>0.23</td>\n    </tr>\n    <tr>\n      <th>3</th>\n      <td>0000f6ccb0745a6a4b88665a16c9f078</td>\n      <td>2017-10</td>\n      <td>4.43</td>\n      <td>1</td>\n      <td>0.23</td>\n    </tr>\n    <tr>\n      <th>4</th>\n      <td>0004aac84e0df4da2b147fca70cf8255</td>\n      <td>2017-11</td>\n      <td>4.29</td>\n      <td>1</td>\n      <td>0.23</td>\n    </tr>\n    <tr>\n      <th>...</th>\n      <td>...</td>\n      <td>...</td>\n      <td>...</td>\n      <td>...</td>\n      <td>...</td>\n    </tr>\n    <tr>\n      <th>95189</th>\n      <td>fffcf5a5ff07b0908bd4e2dbc735a684</td>\n      <td>2017-06</td>\n      <td>4.29</td>\n      <td>1</td>\n      <td>0.23</td>\n    </tr>\n    <tr>\n      <th>95190</th>\n      <td>fffea47cd6d3cc0a88bd621562a9d061</td>\n      <td>2017-12</td>\n      <td>4.43</td>\n      <td>1</td>\n      <td>0.23</td>\n    </tr>\n    <tr>\n      <th>95191</th>\n      <td>ffff371b4d645b6ecea244b27531430a</td>\n      <td>2017-02</td>\n      <td>4.00</td>\n      <td>1</td>\n      <td>0.25</td>\n    </tr>\n    <tr>\n      <th>95192</th>\n      <td>ffff5962728ec6157033ef9805bacc48</td>\n      <td>2018-05</td>\n      <td>4.43</td>\n      <td>1</td>\n      <td>0.23</td>\n    </tr>\n    <tr>\n      <th>95193</th>\n      <td>ffffd2657e2aad2907e67c3e9daecbeb</td>\n      <td>2017-05</td>\n      <td>4.43</td>\n      <td>1</td>\n      <td>0.23</td>\n    </tr>\n  </tbody>\n</table>\n<p>95194 rows × 5 columns</p>\n</div>",
      "text/plain": "                     customer_unique_id    month  count_weeks  all_orders  \\\n0      0000366f3b9a7992bf8c76cfdf3221e2  2018-05         4.43           1   \n1      0000b849f77a49e4a4ce2b2a4ca5be3f  2018-05         4.43           1   \n2      0000f46a3911fa3c0805444483337064  2017-03         4.43           1   \n3      0000f6ccb0745a6a4b88665a16c9f078  2017-10         4.43           1   \n4      0004aac84e0df4da2b147fca70cf8255  2017-11         4.29           1   \n...                                 ...      ...          ...         ...   \n95189  fffcf5a5ff07b0908bd4e2dbc735a684  2017-06         4.29           1   \n95190  fffea47cd6d3cc0a88bd621562a9d061  2017-12         4.43           1   \n95191  ffff371b4d645b6ecea244b27531430a  2017-02         4.00           1   \n95192  ffff5962728ec6157033ef9805bacc48  2018-05         4.43           1   \n95193  ffffd2657e2aad2907e67c3e9daecbeb  2017-05         4.43           1   \n\n       avg_orders_per_week  \n0                     0.23  \n1                     0.23  \n2                     0.23  \n3                     0.23  \n4                     0.23  \n...                    ...  \n95189                 0.23  \n95190                 0.23  \n95191                 0.25  \n95192                 0.23  \n95193                 0.23  \n\n[95194 rows x 5 columns]"
     },
     "execution_count": 242,
     "metadata": {},
     "output_type": "execute_result"
    }
   ],
   "source": [
    "customer_ord_avg"
   ]
  },
  {
   "cell_type": "markdown",
   "metadata": {},
   "source": [
    "## Задание_5: Используя pandas, проведи когортный анализ пользователей. В период с января по декабрь выяви когорту с самым высоким retention на 3й месяц."
   ]
  },
  {
   "cell_type": "markdown",
   "metadata": {},
   "source": [
    "Retention — это метрика, отвечающая на вопрос, сколько людей вернулись в день Х (неделю Х, месяц Х) после первого входа в продукт. Retention измеряется в процентах, то есть показывает долю вернувшихся людей от изначально пришедших."
   ]
  },
  {
   "cell_type": "code",
   "execution_count": 243,
   "metadata": {
    "ExecuteTime": {
     "end_time": "2023-12-23T15:32:59.369021Z",
     "start_time": "2023-12-23T15:32:59.168419Z"
    },
    "trusted": true
   },
   "outputs": [],
   "source": [
    "df_cohort = orders_df.merge(customers_df, on = 'customer_id' ).fillna(0) "
   ]
  },
  {
   "cell_type": "code",
   "execution_count": 244,
   "metadata": {
    "ExecuteTime": {
     "end_time": "2023-12-23T15:32:59.467181Z",
     "start_time": "2023-12-23T15:32:59.409698Z"
    },
    "trusted": true
   },
   "outputs": [
    {
     "data": {
      "text/html": "<div>\n<style scoped>\n    .dataframe tbody tr th:only-of-type {\n        vertical-align: middle;\n    }\n\n    .dataframe tbody tr th {\n        vertical-align: top;\n    }\n\n    .dataframe thead th {\n        text-align: right;\n    }\n</style>\n<table border=\"1\" class=\"dataframe\">\n  <thead>\n    <tr style=\"text-align: right;\">\n      <th></th>\n      <th>order_id</th>\n      <th>customer_id</th>\n      <th>order_status</th>\n      <th>order_purchase_timestamp</th>\n      <th>order_approved_at</th>\n      <th>order_delivered_carrier_date</th>\n      <th>order_delivered_customer_date</th>\n      <th>order_estimated_delivery_date</th>\n      <th>customer_unique_id</th>\n      <th>customer_zip_code_prefix</th>\n      <th>customer_city</th>\n      <th>customer_state</th>\n    </tr>\n  </thead>\n  <tbody>\n    <tr>\n      <th>0</th>\n      <td>e481f51cbdc54678b7cc49136f2d6af7</td>\n      <td>9ef432eb6251297304e76186b10a928d</td>\n      <td>delivered</td>\n      <td>2017-10-02 10:56:33</td>\n      <td>2017-10-02 11:07:15</td>\n      <td>2017-10-04 19:55:00</td>\n      <td>2017-10-10 21:25:13</td>\n      <td>2017-10-18 00:00:00</td>\n      <td>7c396fd4830fd04220f754e42b4e5bff</td>\n      <td>3149</td>\n      <td>sao paulo</td>\n      <td>SP</td>\n    </tr>\n    <tr>\n      <th>1</th>\n      <td>53cdb2fc8bc7dce0b6741e2150273451</td>\n      <td>b0830fb4747a6c6d20dea0b8c802d7ef</td>\n      <td>delivered</td>\n      <td>2018-07-24 20:41:37</td>\n      <td>2018-07-26 03:24:27</td>\n      <td>2018-07-26 14:31:00</td>\n      <td>2018-08-07 15:27:45</td>\n      <td>2018-08-13 00:00:00</td>\n      <td>af07308b275d755c9edb36a90c618231</td>\n      <td>47813</td>\n      <td>barreiras</td>\n      <td>BA</td>\n    </tr>\n    <tr>\n      <th>2</th>\n      <td>47770eb9100c2d0c44946d9cf07ec65d</td>\n      <td>41ce2a54c0b03bf3443c3d931a367089</td>\n      <td>delivered</td>\n      <td>2018-08-08 08:38:49</td>\n      <td>2018-08-08 08:55:23</td>\n      <td>2018-08-08 13:50:00</td>\n      <td>2018-08-17 18:06:29</td>\n      <td>2018-09-04 00:00:00</td>\n      <td>3a653a41f6f9fc3d2a113cf8398680e8</td>\n      <td>75265</td>\n      <td>vianopolis</td>\n      <td>GO</td>\n    </tr>\n    <tr>\n      <th>3</th>\n      <td>949d5b44dbf5de918fe9c16f97b45f8a</td>\n      <td>f88197465ea7920adcdbec7375364d82</td>\n      <td>delivered</td>\n      <td>2017-11-18 19:28:06</td>\n      <td>2017-11-18 19:45:59</td>\n      <td>2017-11-22 13:39:59</td>\n      <td>2017-12-02 00:28:42</td>\n      <td>2017-12-15 00:00:00</td>\n      <td>7c142cf63193a1473d2e66489a9ae977</td>\n      <td>59296</td>\n      <td>sao goncalo do amarante</td>\n      <td>RN</td>\n    </tr>\n    <tr>\n      <th>4</th>\n      <td>ad21c59c0840e6cb83a9ceb5573f8159</td>\n      <td>8ab97904e6daea8866dbdbc4fb7aad2c</td>\n      <td>delivered</td>\n      <td>2018-02-13 21:18:39</td>\n      <td>2018-02-13 22:20:29</td>\n      <td>2018-02-14 19:46:34</td>\n      <td>2018-02-16 18:17:02</td>\n      <td>2018-02-26 00:00:00</td>\n      <td>72632f0f9dd73dfee390c9b22eb56dd6</td>\n      <td>9195</td>\n      <td>santo andre</td>\n      <td>SP</td>\n    </tr>\n    <tr>\n      <th>...</th>\n      <td>...</td>\n      <td>...</td>\n      <td>...</td>\n      <td>...</td>\n      <td>...</td>\n      <td>...</td>\n      <td>...</td>\n      <td>...</td>\n      <td>...</td>\n      <td>...</td>\n      <td>...</td>\n      <td>...</td>\n    </tr>\n    <tr>\n      <th>99436</th>\n      <td>9c5dedf39a927c1b2549525ed64a053c</td>\n      <td>39bd1228ee8140590ac3aca26f2dfe00</td>\n      <td>delivered</td>\n      <td>2017-03-09 09:54:05</td>\n      <td>2017-03-09 09:54:05</td>\n      <td>2017-03-10 11:18:03</td>\n      <td>2017-03-17 15:08:01</td>\n      <td>2017-03-28 00:00:00</td>\n      <td>6359f309b166b0196dbf7ad2ac62bb5a</td>\n      <td>12209</td>\n      <td>sao jose dos campos</td>\n      <td>SP</td>\n    </tr>\n    <tr>\n      <th>99437</th>\n      <td>63943bddc261676b46f01ca7ac2f7bd8</td>\n      <td>1fca14ff2861355f6e5f14306ff977a7</td>\n      <td>delivered</td>\n      <td>2018-02-06 12:58:58</td>\n      <td>2018-02-06 13:10:37</td>\n      <td>2018-02-07 23:22:42</td>\n      <td>2018-02-28 17:37:56</td>\n      <td>2018-03-02 00:00:00</td>\n      <td>da62f9e57a76d978d02ab5362c509660</td>\n      <td>11722</td>\n      <td>praia grande</td>\n      <td>SP</td>\n    </tr>\n    <tr>\n      <th>99438</th>\n      <td>83c1379a015df1e13d02aae0204711ab</td>\n      <td>1aa71eb042121263aafbe80c1b562c9c</td>\n      <td>delivered</td>\n      <td>2017-08-27 14:46:43</td>\n      <td>2017-08-27 15:04:16</td>\n      <td>2017-08-28 20:52:26</td>\n      <td>2017-09-21 11:24:17</td>\n      <td>2017-09-27 00:00:00</td>\n      <td>737520a9aad80b3fbbdad19b66b37b30</td>\n      <td>45920</td>\n      <td>nova vicosa</td>\n      <td>BA</td>\n    </tr>\n    <tr>\n      <th>99439</th>\n      <td>11c177c8e97725db2631073c19f07b62</td>\n      <td>b331b74b18dc79bcdf6532d51e1637c1</td>\n      <td>delivered</td>\n      <td>2018-01-08 21:28:27</td>\n      <td>2018-01-08 21:36:21</td>\n      <td>2018-01-12 15:35:03</td>\n      <td>2018-01-25 23:32:54</td>\n      <td>2018-02-15 00:00:00</td>\n      <td>5097a5312c8b157bb7be58ae360ef43c</td>\n      <td>28685</td>\n      <td>japuiba</td>\n      <td>RJ</td>\n    </tr>\n    <tr>\n      <th>99440</th>\n      <td>66dea50a8b16d9b4dee7af250b4be1a5</td>\n      <td>edb027a75a1449115f6b43211ae02a24</td>\n      <td>delivered</td>\n      <td>2018-03-08 20:57:30</td>\n      <td>2018-03-09 11:20:28</td>\n      <td>2018-03-09 22:11:59</td>\n      <td>2018-03-16 13:08:30</td>\n      <td>2018-04-03 00:00:00</td>\n      <td>60350aa974b26ff12caad89e55993bd6</td>\n      <td>83750</td>\n      <td>lapa</td>\n      <td>PR</td>\n    </tr>\n  </tbody>\n</table>\n<p>96478 rows × 12 columns</p>\n</div>",
      "text/plain": "                               order_id                       customer_id  \\\n0      e481f51cbdc54678b7cc49136f2d6af7  9ef432eb6251297304e76186b10a928d   \n1      53cdb2fc8bc7dce0b6741e2150273451  b0830fb4747a6c6d20dea0b8c802d7ef   \n2      47770eb9100c2d0c44946d9cf07ec65d  41ce2a54c0b03bf3443c3d931a367089   \n3      949d5b44dbf5de918fe9c16f97b45f8a  f88197465ea7920adcdbec7375364d82   \n4      ad21c59c0840e6cb83a9ceb5573f8159  8ab97904e6daea8866dbdbc4fb7aad2c   \n...                                 ...                               ...   \n99436  9c5dedf39a927c1b2549525ed64a053c  39bd1228ee8140590ac3aca26f2dfe00   \n99437  63943bddc261676b46f01ca7ac2f7bd8  1fca14ff2861355f6e5f14306ff977a7   \n99438  83c1379a015df1e13d02aae0204711ab  1aa71eb042121263aafbe80c1b562c9c   \n99439  11c177c8e97725db2631073c19f07b62  b331b74b18dc79bcdf6532d51e1637c1   \n99440  66dea50a8b16d9b4dee7af250b4be1a5  edb027a75a1449115f6b43211ae02a24   \n\n      order_status order_purchase_timestamp    order_approved_at  \\\n0        delivered      2017-10-02 10:56:33  2017-10-02 11:07:15   \n1        delivered      2018-07-24 20:41:37  2018-07-26 03:24:27   \n2        delivered      2018-08-08 08:38:49  2018-08-08 08:55:23   \n3        delivered      2017-11-18 19:28:06  2017-11-18 19:45:59   \n4        delivered      2018-02-13 21:18:39  2018-02-13 22:20:29   \n...            ...                      ...                  ...   \n99436    delivered      2017-03-09 09:54:05  2017-03-09 09:54:05   \n99437    delivered      2018-02-06 12:58:58  2018-02-06 13:10:37   \n99438    delivered      2017-08-27 14:46:43  2017-08-27 15:04:16   \n99439    delivered      2018-01-08 21:28:27  2018-01-08 21:36:21   \n99440    delivered      2018-03-08 20:57:30  2018-03-09 11:20:28   \n\n      order_delivered_carrier_date order_delivered_customer_date  \\\n0              2017-10-04 19:55:00           2017-10-10 21:25:13   \n1              2018-07-26 14:31:00           2018-08-07 15:27:45   \n2              2018-08-08 13:50:00           2018-08-17 18:06:29   \n3              2017-11-22 13:39:59           2017-12-02 00:28:42   \n4              2018-02-14 19:46:34           2018-02-16 18:17:02   \n...                            ...                           ...   \n99436          2017-03-10 11:18:03           2017-03-17 15:08:01   \n99437          2018-02-07 23:22:42           2018-02-28 17:37:56   \n99438          2017-08-28 20:52:26           2017-09-21 11:24:17   \n99439          2018-01-12 15:35:03           2018-01-25 23:32:54   \n99440          2018-03-09 22:11:59           2018-03-16 13:08:30   \n\n      order_estimated_delivery_date                customer_unique_id  \\\n0               2017-10-18 00:00:00  7c396fd4830fd04220f754e42b4e5bff   \n1               2018-08-13 00:00:00  af07308b275d755c9edb36a90c618231   \n2               2018-09-04 00:00:00  3a653a41f6f9fc3d2a113cf8398680e8   \n3               2017-12-15 00:00:00  7c142cf63193a1473d2e66489a9ae977   \n4               2018-02-26 00:00:00  72632f0f9dd73dfee390c9b22eb56dd6   \n...                             ...                               ...   \n99436           2017-03-28 00:00:00  6359f309b166b0196dbf7ad2ac62bb5a   \n99437           2018-03-02 00:00:00  da62f9e57a76d978d02ab5362c509660   \n99438           2017-09-27 00:00:00  737520a9aad80b3fbbdad19b66b37b30   \n99439           2018-02-15 00:00:00  5097a5312c8b157bb7be58ae360ef43c   \n99440           2018-04-03 00:00:00  60350aa974b26ff12caad89e55993bd6   \n\n       customer_zip_code_prefix            customer_city customer_state  \n0                          3149                sao paulo             SP  \n1                         47813                barreiras             BA  \n2                         75265               vianopolis             GO  \n3                         59296  sao goncalo do amarante             RN  \n4                          9195              santo andre             SP  \n...                         ...                      ...            ...  \n99436                     12209      sao jose dos campos             SP  \n99437                     11722             praia grande             SP  \n99438                     45920              nova vicosa             BA  \n99439                     28685                  japuiba             RJ  \n99440                     83750                     lapa             PR  \n\n[96478 rows x 12 columns]"
     },
     "execution_count": 244,
     "metadata": {},
     "output_type": "execute_result"
    }
   ],
   "source": [
    "df_cohort.query('order_status == \"delivered\"')\n",
    "#Оставляем досталенные ордеры"
   ]
  },
  {
   "cell_type": "code",
   "execution_count": 245,
   "metadata": {
    "ExecuteTime": {
     "end_time": "2023-12-23T15:32:59.548535Z",
     "start_time": "2023-12-23T15:32:59.490720Z"
    },
    "trusted": true
   },
   "outputs": [],
   "source": [
    "df_cohort.order_purchase_timestamp = pd.to_datetime(df_cohort.order_purchase_timestamp)\n",
    "#переводим order_purchase_timestamp в datetime"
   ]
  },
  {
   "cell_type": "code",
   "execution_count": 246,
   "metadata": {
    "ExecuteTime": {
     "end_time": "2023-12-23T15:33:00.256151Z",
     "start_time": "2023-12-23T15:32:59.511911Z"
    },
    "trusted": true
   },
   "outputs": [],
   "source": [
    "df_cohort.order_purchase_timestamp = df_cohort.order_purchase_timestamp.dt.strftime('%Y-%m')\n",
    "#оставляем в order_purchase_timestamp только месяц и год, так как расчитывать retention будем относительно месяцев"
   ]
  },
  {
   "cell_type": "code",
   "execution_count": 247,
   "metadata": {
    "ExecuteTime": {
     "end_time": "2023-12-23T15:33:11.006168Z",
     "start_time": "2023-12-23T15:33:00.256107Z"
    },
    "trusted": true
   },
   "outputs": [],
   "source": [
    "df_cohort['first_buy'] = df_cohort.groupby('customer_unique_id')['order_purchase_timestamp'].transform('min')\n",
    "#создаем колонку с датой первого ордера по пользователям"
   ]
  },
  {
   "cell_type": "code",
   "execution_count": 248,
   "metadata": {
    "ExecuteTime": {
     "end_time": "2023-12-23T15:33:11.054327Z",
     "start_time": "2023-12-23T15:33:11.005077Z"
    },
    "trusted": true
   },
   "outputs": [
    {
     "data": {
      "text/html": "<div>\n<style scoped>\n    .dataframe tbody tr th:only-of-type {\n        vertical-align: middle;\n    }\n\n    .dataframe tbody tr th {\n        vertical-align: top;\n    }\n\n    .dataframe thead th {\n        text-align: right;\n    }\n</style>\n<table border=\"1\" class=\"dataframe\">\n  <thead>\n    <tr style=\"text-align: right;\">\n      <th></th>\n      <th>order_id</th>\n      <th>customer_id</th>\n      <th>order_status</th>\n      <th>order_purchase_timestamp</th>\n      <th>order_approved_at</th>\n      <th>order_delivered_carrier_date</th>\n      <th>order_delivered_customer_date</th>\n      <th>order_estimated_delivery_date</th>\n      <th>customer_unique_id</th>\n      <th>customer_zip_code_prefix</th>\n      <th>customer_city</th>\n      <th>customer_state</th>\n      <th>first_buy</th>\n    </tr>\n  </thead>\n  <tbody>\n    <tr>\n      <th>0</th>\n      <td>e481f51cbdc54678b7cc49136f2d6af7</td>\n      <td>9ef432eb6251297304e76186b10a928d</td>\n      <td>delivered</td>\n      <td>2017-10</td>\n      <td>2017-10-02 11:07:15</td>\n      <td>2017-10-04 19:55:00</td>\n      <td>2017-10-10 21:25:13</td>\n      <td>2017-10-18 00:00:00</td>\n      <td>7c396fd4830fd04220f754e42b4e5bff</td>\n      <td>3149</td>\n      <td>sao paulo</td>\n      <td>SP</td>\n      <td>2017-09</td>\n    </tr>\n    <tr>\n      <th>1</th>\n      <td>53cdb2fc8bc7dce0b6741e2150273451</td>\n      <td>b0830fb4747a6c6d20dea0b8c802d7ef</td>\n      <td>delivered</td>\n      <td>2018-07</td>\n      <td>2018-07-26 03:24:27</td>\n      <td>2018-07-26 14:31:00</td>\n      <td>2018-08-07 15:27:45</td>\n      <td>2018-08-13 00:00:00</td>\n      <td>af07308b275d755c9edb36a90c618231</td>\n      <td>47813</td>\n      <td>barreiras</td>\n      <td>BA</td>\n      <td>2018-07</td>\n    </tr>\n    <tr>\n      <th>2</th>\n      <td>47770eb9100c2d0c44946d9cf07ec65d</td>\n      <td>41ce2a54c0b03bf3443c3d931a367089</td>\n      <td>delivered</td>\n      <td>2018-08</td>\n      <td>2018-08-08 08:55:23</td>\n      <td>2018-08-08 13:50:00</td>\n      <td>2018-08-17 18:06:29</td>\n      <td>2018-09-04 00:00:00</td>\n      <td>3a653a41f6f9fc3d2a113cf8398680e8</td>\n      <td>75265</td>\n      <td>vianopolis</td>\n      <td>GO</td>\n      <td>2018-08</td>\n    </tr>\n    <tr>\n      <th>3</th>\n      <td>949d5b44dbf5de918fe9c16f97b45f8a</td>\n      <td>f88197465ea7920adcdbec7375364d82</td>\n      <td>delivered</td>\n      <td>2017-11</td>\n      <td>2017-11-18 19:45:59</td>\n      <td>2017-11-22 13:39:59</td>\n      <td>2017-12-02 00:28:42</td>\n      <td>2017-12-15 00:00:00</td>\n      <td>7c142cf63193a1473d2e66489a9ae977</td>\n      <td>59296</td>\n      <td>sao goncalo do amarante</td>\n      <td>RN</td>\n      <td>2017-11</td>\n    </tr>\n    <tr>\n      <th>4</th>\n      <td>ad21c59c0840e6cb83a9ceb5573f8159</td>\n      <td>8ab97904e6daea8866dbdbc4fb7aad2c</td>\n      <td>delivered</td>\n      <td>2018-02</td>\n      <td>2018-02-13 22:20:29</td>\n      <td>2018-02-14 19:46:34</td>\n      <td>2018-02-16 18:17:02</td>\n      <td>2018-02-26 00:00:00</td>\n      <td>72632f0f9dd73dfee390c9b22eb56dd6</td>\n      <td>9195</td>\n      <td>santo andre</td>\n      <td>SP</td>\n      <td>2018-02</td>\n    </tr>\n  </tbody>\n</table>\n</div>",
      "text/plain": "                           order_id                       customer_id  \\\n0  e481f51cbdc54678b7cc49136f2d6af7  9ef432eb6251297304e76186b10a928d   \n1  53cdb2fc8bc7dce0b6741e2150273451  b0830fb4747a6c6d20dea0b8c802d7ef   \n2  47770eb9100c2d0c44946d9cf07ec65d  41ce2a54c0b03bf3443c3d931a367089   \n3  949d5b44dbf5de918fe9c16f97b45f8a  f88197465ea7920adcdbec7375364d82   \n4  ad21c59c0840e6cb83a9ceb5573f8159  8ab97904e6daea8866dbdbc4fb7aad2c   \n\n  order_status order_purchase_timestamp    order_approved_at  \\\n0    delivered                  2017-10  2017-10-02 11:07:15   \n1    delivered                  2018-07  2018-07-26 03:24:27   \n2    delivered                  2018-08  2018-08-08 08:55:23   \n3    delivered                  2017-11  2017-11-18 19:45:59   \n4    delivered                  2018-02  2018-02-13 22:20:29   \n\n  order_delivered_carrier_date order_delivered_customer_date  \\\n0          2017-10-04 19:55:00           2017-10-10 21:25:13   \n1          2018-07-26 14:31:00           2018-08-07 15:27:45   \n2          2018-08-08 13:50:00           2018-08-17 18:06:29   \n3          2017-11-22 13:39:59           2017-12-02 00:28:42   \n4          2018-02-14 19:46:34           2018-02-16 18:17:02   \n\n  order_estimated_delivery_date                customer_unique_id  \\\n0           2017-10-18 00:00:00  7c396fd4830fd04220f754e42b4e5bff   \n1           2018-08-13 00:00:00  af07308b275d755c9edb36a90c618231   \n2           2018-09-04 00:00:00  3a653a41f6f9fc3d2a113cf8398680e8   \n3           2017-12-15 00:00:00  7c142cf63193a1473d2e66489a9ae977   \n4           2018-02-26 00:00:00  72632f0f9dd73dfee390c9b22eb56dd6   \n\n   customer_zip_code_prefix            customer_city customer_state first_buy  \n0                      3149                sao paulo             SP   2017-09  \n1                     47813                barreiras             BA   2018-07  \n2                     75265               vianopolis             GO   2018-08  \n3                     59296  sao goncalo do amarante             RN   2017-11  \n4                      9195              santo andre             SP   2018-02  "
     },
     "execution_count": 248,
     "metadata": {},
     "output_type": "execute_result"
    }
   ],
   "source": [
    "df_cohort.head()"
   ]
  },
  {
   "cell_type": "markdown",
   "metadata": {},
   "source": [
    "#### Так как период анализа у нас с января по декабрь исходя из нашего датасета нам подходит только период с января 2017 года по декабрь 2017 года"
   ]
  },
  {
   "cell_type": "markdown",
   "metadata": {},
   "source": [
    "Возьмем только нужные для работы колонки:"
   ]
  },
  {
   "cell_type": "code",
   "execution_count": 249,
   "metadata": {
    "ExecuteTime": {
     "end_time": "2023-12-23T15:33:11.056250Z",
     "start_time": "2023-12-23T15:33:11.046703Z"
    },
    "trusted": true
   },
   "outputs": [],
   "source": [
    "df_retention = df_cohort[['customer_unique_id' , 'order_purchase_timestamp' , 'first_buy']]"
   ]
  },
  {
   "cell_type": "code",
   "execution_count": 250,
   "metadata": {
    "ExecuteTime": {
     "end_time": "2023-12-23T15:33:11.124057Z",
     "start_time": "2023-12-23T15:33:11.046986Z"
    },
    "trusted": true
   },
   "outputs": [],
   "source": [
    "df3 = df_retention.query('first_buy >= \"2017-01\" and  first_buy < \"2018-01\"') \\\n",
    "    .groupby(['first_buy', 'order_purchase_timestamp'], as_index = False) \\\n",
    "    .agg({'customer_unique_id' : 'nunique'})"
   ]
  },
  {
   "cell_type": "code",
   "execution_count": 251,
   "metadata": {
    "ExecuteTime": {
     "end_time": "2023-12-23T15:33:11.134241Z",
     "start_time": "2023-12-23T15:33:11.125959Z"
    },
    "trusted": true
   },
   "outputs": [],
   "source": [
    "#Переводим в формат datetime\n",
    "df3['order_purchase_timestamp'] =  pd.to_datetime(df3['order_purchase_timestamp'])\n",
    "df3['first_buy'] =  pd.to_datetime(df3['first_buy'])"
   ]
  },
  {
   "cell_type": "code",
   "execution_count": 252,
   "metadata": {
    "ExecuteTime": {
     "end_time": "2023-12-23T15:33:11.176457Z",
     "start_time": "2023-12-23T15:33:11.174702Z"
    },
    "trusted": true
   },
   "outputs": [],
   "source": [
    "#Указываем период месяц\n",
    "df3.first_buy = df3.first_buy.dt.to_period('m')\n",
    "df3.order_purchase_timestamp = df3.order_purchase_timestamp.dt.to_period('m')"
   ]
  },
  {
   "cell_type": "code",
   "execution_count": 253,
   "metadata": {
    "ExecuteTime": {
     "end_time": "2023-12-23T15:33:11.217481Z",
     "start_time": "2023-12-23T15:33:11.174935Z"
    },
    "trusted": true
   },
   "outputs": [],
   "source": [
    "df3['diff_month'] = (df3['order_purchase_timestamp'] - df3['first_buy']).apply(attrgetter('n')) \n",
    "#Считаем разницу между покупкой и первой покупкой и берем только количество месяцев"
   ]
  },
  {
   "cell_type": "code",
   "execution_count": 254,
   "metadata": {
    "ExecuteTime": {
     "end_time": "2023-12-23T15:33:11.254231Z",
     "start_time": "2023-12-23T15:33:11.217441Z"
    },
    "trusted": true
   },
   "outputs": [
    {
     "data": {
      "text/html": "<div>\n<style scoped>\n    .dataframe tbody tr th:only-of-type {\n        vertical-align: middle;\n    }\n\n    .dataframe tbody tr th {\n        vertical-align: top;\n    }\n\n    .dataframe thead th {\n        text-align: right;\n    }\n</style>\n<table border=\"1\" class=\"dataframe\">\n  <thead>\n    <tr style=\"text-align: right;\">\n      <th></th>\n      <th>first_buy</th>\n      <th>order_purchase_timestamp</th>\n      <th>customer_unique_id</th>\n      <th>diff_month</th>\n    </tr>\n  </thead>\n  <tbody>\n    <tr>\n      <th>0</th>\n      <td>2017-01</td>\n      <td>2017-01</td>\n      <td>764</td>\n      <td>0</td>\n    </tr>\n    <tr>\n      <th>1</th>\n      <td>2017-01</td>\n      <td>2017-02</td>\n      <td>3</td>\n      <td>1</td>\n    </tr>\n    <tr>\n      <th>2</th>\n      <td>2017-01</td>\n      <td>2017-03</td>\n      <td>2</td>\n      <td>2</td>\n    </tr>\n    <tr>\n      <th>3</th>\n      <td>2017-01</td>\n      <td>2017-04</td>\n      <td>1</td>\n      <td>3</td>\n    </tr>\n    <tr>\n      <th>4</th>\n      <td>2017-01</td>\n      <td>2017-05</td>\n      <td>3</td>\n      <td>4</td>\n    </tr>\n    <tr>\n      <th>...</th>\n      <td>...</td>\n      <td>...</td>\n      <td>...</td>\n      <td>...</td>\n    </tr>\n    <tr>\n      <th>166</th>\n      <td>2017-12</td>\n      <td>2018-04</td>\n      <td>15</td>\n      <td>4</td>\n    </tr>\n    <tr>\n      <th>167</th>\n      <td>2017-12</td>\n      <td>2018-05</td>\n      <td>11</td>\n      <td>5</td>\n    </tr>\n    <tr>\n      <th>168</th>\n      <td>2017-12</td>\n      <td>2018-06</td>\n      <td>9</td>\n      <td>6</td>\n    </tr>\n    <tr>\n      <th>169</th>\n      <td>2017-12</td>\n      <td>2018-07</td>\n      <td>3</td>\n      <td>7</td>\n    </tr>\n    <tr>\n      <th>170</th>\n      <td>2017-12</td>\n      <td>2018-08</td>\n      <td>12</td>\n      <td>8</td>\n    </tr>\n  </tbody>\n</table>\n<p>171 rows × 4 columns</p>\n</div>",
      "text/plain": "    first_buy order_purchase_timestamp  customer_unique_id  diff_month\n0     2017-01                  2017-01                 764           0\n1     2017-01                  2017-02                   3           1\n2     2017-01                  2017-03                   2           2\n3     2017-01                  2017-04                   1           3\n4     2017-01                  2017-05                   3           4\n..        ...                      ...                 ...         ...\n166   2017-12                  2018-04                  15           4\n167   2017-12                  2018-05                  11           5\n168   2017-12                  2018-06                   9           6\n169   2017-12                  2018-07                   3           7\n170   2017-12                  2018-08                  12           8\n\n[171 rows x 4 columns]"
     },
     "execution_count": 254,
     "metadata": {},
     "output_type": "execute_result"
    }
   ],
   "source": [
    "df3"
   ]
  },
  {
   "cell_type": "code",
   "execution_count": 255,
   "metadata": {
    "ExecuteTime": {
     "end_time": "2023-12-23T15:33:11.315690Z",
     "start_time": "2023-12-23T15:33:11.247902Z"
    },
    "trusted": true
   },
   "outputs": [],
   "source": [
    "cohort = df3 \\\n",
    ".pivot_table(columns='diff_month', index = 'first_buy',values='customer_unique_id')\n",
    "#Строим pivot, так как это упрощает сравнение"
   ]
  },
  {
   "cell_type": "code",
   "execution_count": 256,
   "metadata": {
    "ExecuteTime": {
     "end_time": "2023-12-23T15:33:11.393469Z",
     "start_time": "2023-12-23T15:33:11.333129Z"
    },
    "trusted": true
   },
   "outputs": [
    {
     "data": {
      "text/html": "<div>\n<style scoped>\n    .dataframe tbody tr th:only-of-type {\n        vertical-align: middle;\n    }\n\n    .dataframe tbody tr th {\n        vertical-align: top;\n    }\n\n    .dataframe thead th {\n        text-align: right;\n    }\n</style>\n<table border=\"1\" class=\"dataframe\">\n  <thead>\n    <tr style=\"text-align: right;\">\n      <th>diff_month</th>\n      <th>0</th>\n      <th>1</th>\n      <th>2</th>\n      <th>3</th>\n      <th>4</th>\n      <th>5</th>\n      <th>6</th>\n      <th>7</th>\n      <th>8</th>\n      <th>9</th>\n      <th>10</th>\n      <th>11</th>\n      <th>12</th>\n      <th>13</th>\n      <th>14</th>\n      <th>15</th>\n      <th>16</th>\n      <th>17</th>\n      <th>19</th>\n    </tr>\n    <tr>\n      <th>first_buy</th>\n      <th></th>\n      <th></th>\n      <th></th>\n      <th></th>\n      <th></th>\n      <th></th>\n      <th></th>\n      <th></th>\n      <th></th>\n      <th></th>\n      <th></th>\n      <th></th>\n      <th></th>\n      <th></th>\n      <th></th>\n      <th></th>\n      <th></th>\n      <th></th>\n      <th></th>\n    </tr>\n  </thead>\n  <tbody>\n    <tr>\n      <th>2017-01</th>\n      <td>764.0</td>\n      <td>3.0</td>\n      <td>2.0</td>\n      <td>1.0</td>\n      <td>3.0</td>\n      <td>1.0</td>\n      <td>4.0</td>\n      <td>1.0</td>\n      <td>1.0</td>\n      <td>NaN</td>\n      <td>3.0</td>\n      <td>1.0</td>\n      <td>6.0</td>\n      <td>3.0</td>\n      <td>1.0</td>\n      <td>1.0</td>\n      <td>2.0</td>\n      <td>3.0</td>\n      <td>1.0</td>\n    </tr>\n    <tr>\n      <th>2017-02</th>\n      <td>1752.0</td>\n      <td>4.0</td>\n      <td>5.0</td>\n      <td>2.0</td>\n      <td>7.0</td>\n      <td>2.0</td>\n      <td>4.0</td>\n      <td>3.0</td>\n      <td>3.0</td>\n      <td>4.0</td>\n      <td>2.0</td>\n      <td>5.0</td>\n      <td>3.0</td>\n      <td>3.0</td>\n      <td>2.0</td>\n      <td>1.0</td>\n      <td>1.0</td>\n      <td>4.0</td>\n      <td>NaN</td>\n    </tr>\n    <tr>\n      <th>2017-03</th>\n      <td>2636.0</td>\n      <td>13.0</td>\n      <td>10.0</td>\n      <td>10.0</td>\n      <td>9.0</td>\n      <td>4.0</td>\n      <td>4.0</td>\n      <td>8.0</td>\n      <td>9.0</td>\n      <td>2.0</td>\n      <td>10.0</td>\n      <td>4.0</td>\n      <td>6.0</td>\n      <td>3.0</td>\n      <td>4.0</td>\n      <td>6.0</td>\n      <td>2.0</td>\n      <td>4.0</td>\n      <td>NaN</td>\n    </tr>\n    <tr>\n      <th>2017-04</th>\n      <td>2352.0</td>\n      <td>14.0</td>\n      <td>5.0</td>\n      <td>4.0</td>\n      <td>8.0</td>\n      <td>6.0</td>\n      <td>8.0</td>\n      <td>7.0</td>\n      <td>7.0</td>\n      <td>4.0</td>\n      <td>6.0</td>\n      <td>2.0</td>\n      <td>2.0</td>\n      <td>1.0</td>\n      <td>2.0</td>\n      <td>2.0</td>\n      <td>5.0</td>\n      <td>NaN</td>\n      <td>NaN</td>\n    </tr>\n    <tr>\n      <th>2017-05</th>\n      <td>3596.0</td>\n      <td>18.0</td>\n      <td>18.0</td>\n      <td>14.0</td>\n      <td>11.0</td>\n      <td>12.0</td>\n      <td>15.0</td>\n      <td>6.0</td>\n      <td>9.0</td>\n      <td>11.0</td>\n      <td>9.0</td>\n      <td>12.0</td>\n      <td>9.0</td>\n      <td>1.0</td>\n      <td>7.0</td>\n      <td>9.0</td>\n      <td>NaN</td>\n      <td>NaN</td>\n      <td>NaN</td>\n    </tr>\n    <tr>\n      <th>2017-06</th>\n      <td>3139.0</td>\n      <td>15.0</td>\n      <td>11.0</td>\n      <td>13.0</td>\n      <td>8.0</td>\n      <td>12.0</td>\n      <td>12.0</td>\n      <td>7.0</td>\n      <td>4.0</td>\n      <td>7.0</td>\n      <td>10.0</td>\n      <td>11.0</td>\n      <td>5.0</td>\n      <td>4.0</td>\n      <td>6.0</td>\n      <td>NaN</td>\n      <td>NaN</td>\n      <td>NaN</td>\n      <td>NaN</td>\n    </tr>\n    <tr>\n      <th>2017-07</th>\n      <td>3894.0</td>\n      <td>20.0</td>\n      <td>14.0</td>\n      <td>10.0</td>\n      <td>11.0</td>\n      <td>8.0</td>\n      <td>12.0</td>\n      <td>4.0</td>\n      <td>7.0</td>\n      <td>10.0</td>\n      <td>9.0</td>\n      <td>12.0</td>\n      <td>5.0</td>\n      <td>10.0</td>\n      <td>NaN</td>\n      <td>NaN</td>\n      <td>NaN</td>\n      <td>NaN</td>\n      <td>NaN</td>\n    </tr>\n    <tr>\n      <th>2017-08</th>\n      <td>4184.0</td>\n      <td>29.0</td>\n      <td>14.0</td>\n      <td>11.0</td>\n      <td>15.0</td>\n      <td>22.0</td>\n      <td>12.0</td>\n      <td>11.0</td>\n      <td>6.0</td>\n      <td>6.0</td>\n      <td>10.0</td>\n      <td>8.0</td>\n      <td>4.0</td>\n      <td>NaN</td>\n      <td>NaN</td>\n      <td>NaN</td>\n      <td>NaN</td>\n      <td>NaN</td>\n      <td>NaN</td>\n    </tr>\n    <tr>\n      <th>2017-09</th>\n      <td>4130.0</td>\n      <td>28.0</td>\n      <td>22.0</td>\n      <td>12.0</td>\n      <td>19.0</td>\n      <td>9.0</td>\n      <td>9.0</td>\n      <td>10.0</td>\n      <td>12.0</td>\n      <td>7.0</td>\n      <td>11.0</td>\n      <td>3.0</td>\n      <td>NaN</td>\n      <td>NaN</td>\n      <td>NaN</td>\n      <td>NaN</td>\n      <td>NaN</td>\n      <td>NaN</td>\n      <td>NaN</td>\n    </tr>\n    <tr>\n      <th>2017-10</th>\n      <td>4470.0</td>\n      <td>31.0</td>\n      <td>11.0</td>\n      <td>4.0</td>\n      <td>10.0</td>\n      <td>9.0</td>\n      <td>10.0</td>\n      <td>16.0</td>\n      <td>12.0</td>\n      <td>9.0</td>\n      <td>9.0</td>\n      <td>NaN</td>\n      <td>NaN</td>\n      <td>NaN</td>\n      <td>NaN</td>\n      <td>NaN</td>\n      <td>NaN</td>\n      <td>NaN</td>\n      <td>NaN</td>\n    </tr>\n    <tr>\n      <th>2017-11</th>\n      <td>7304.0</td>\n      <td>40.0</td>\n      <td>28.0</td>\n      <td>13.0</td>\n      <td>14.0</td>\n      <td>13.0</td>\n      <td>8.0</td>\n      <td>14.0</td>\n      <td>10.0</td>\n      <td>4.0</td>\n      <td>NaN</td>\n      <td>NaN</td>\n      <td>NaN</td>\n      <td>NaN</td>\n      <td>NaN</td>\n      <td>NaN</td>\n      <td>NaN</td>\n      <td>NaN</td>\n      <td>NaN</td>\n    </tr>\n    <tr>\n      <th>2017-12</th>\n      <td>5487.0</td>\n      <td>14.0</td>\n      <td>15.0</td>\n      <td>19.0</td>\n      <td>15.0</td>\n      <td>11.0</td>\n      <td>9.0</td>\n      <td>3.0</td>\n      <td>12.0</td>\n      <td>NaN</td>\n      <td>NaN</td>\n      <td>NaN</td>\n      <td>NaN</td>\n      <td>NaN</td>\n      <td>NaN</td>\n      <td>NaN</td>\n      <td>NaN</td>\n      <td>NaN</td>\n      <td>NaN</td>\n    </tr>\n  </tbody>\n</table>\n</div>",
      "text/plain": "diff_month      0     1     2     3     4     5     6     7     8     9   \\\nfirst_buy                                                                  \n2017-01      764.0   3.0   2.0   1.0   3.0   1.0   4.0   1.0   1.0   NaN   \n2017-02     1752.0   4.0   5.0   2.0   7.0   2.0   4.0   3.0   3.0   4.0   \n2017-03     2636.0  13.0  10.0  10.0   9.0   4.0   4.0   8.0   9.0   2.0   \n2017-04     2352.0  14.0   5.0   4.0   8.0   6.0   8.0   7.0   7.0   4.0   \n2017-05     3596.0  18.0  18.0  14.0  11.0  12.0  15.0   6.0   9.0  11.0   \n2017-06     3139.0  15.0  11.0  13.0   8.0  12.0  12.0   7.0   4.0   7.0   \n2017-07     3894.0  20.0  14.0  10.0  11.0   8.0  12.0   4.0   7.0  10.0   \n2017-08     4184.0  29.0  14.0  11.0  15.0  22.0  12.0  11.0   6.0   6.0   \n2017-09     4130.0  28.0  22.0  12.0  19.0   9.0   9.0  10.0  12.0   7.0   \n2017-10     4470.0  31.0  11.0   4.0  10.0   9.0  10.0  16.0  12.0   9.0   \n2017-11     7304.0  40.0  28.0  13.0  14.0  13.0   8.0  14.0  10.0   4.0   \n2017-12     5487.0  14.0  15.0  19.0  15.0  11.0   9.0   3.0  12.0   NaN   \n\ndiff_month    10    11   12    13   14   15   16   17   19  \nfirst_buy                                                   \n2017-01      3.0   1.0  6.0   3.0  1.0  1.0  2.0  3.0  1.0  \n2017-02      2.0   5.0  3.0   3.0  2.0  1.0  1.0  4.0  NaN  \n2017-03     10.0   4.0  6.0   3.0  4.0  6.0  2.0  4.0  NaN  \n2017-04      6.0   2.0  2.0   1.0  2.0  2.0  5.0  NaN  NaN  \n2017-05      9.0  12.0  9.0   1.0  7.0  9.0  NaN  NaN  NaN  \n2017-06     10.0  11.0  5.0   4.0  6.0  NaN  NaN  NaN  NaN  \n2017-07      9.0  12.0  5.0  10.0  NaN  NaN  NaN  NaN  NaN  \n2017-08     10.0   8.0  4.0   NaN  NaN  NaN  NaN  NaN  NaN  \n2017-09     11.0   3.0  NaN   NaN  NaN  NaN  NaN  NaN  NaN  \n2017-10      9.0   NaN  NaN   NaN  NaN  NaN  NaN  NaN  NaN  \n2017-11      NaN   NaN  NaN   NaN  NaN  NaN  NaN  NaN  NaN  \n2017-12      NaN   NaN  NaN   NaN  NaN  NaN  NaN  NaN  NaN  "
     },
     "execution_count": 256,
     "metadata": {},
     "output_type": "execute_result"
    }
   ],
   "source": [
    "cohort"
   ]
  },
  {
   "cell_type": "code",
   "execution_count": 257,
   "metadata": {
    "ExecuteTime": {
     "end_time": "2023-12-23T15:33:11.395084Z",
     "start_time": "2023-12-23T15:33:11.386883Z"
    },
    "trusted": true
   },
   "outputs": [],
   "source": [
    "#Преобразовываем таблицу\n",
    "cohort_size = cohort.iloc[:, 0] \n",
    "retention = cohort.divide(cohort_size, axis=0)"
   ]
  },
  {
   "cell_type": "code",
   "execution_count": 258,
   "metadata": {
    "ExecuteTime": {
     "end_time": "2023-12-23T15:33:11.496929Z",
     "start_time": "2023-12-23T15:33:11.387087Z"
    },
    "trusted": true
   },
   "outputs": [
    {
     "data": {
      "text/html": "<div>\n<style scoped>\n    .dataframe tbody tr th:only-of-type {\n        vertical-align: middle;\n    }\n\n    .dataframe tbody tr th {\n        vertical-align: top;\n    }\n\n    .dataframe thead th {\n        text-align: right;\n    }\n</style>\n<table border=\"1\" class=\"dataframe\">\n  <thead>\n    <tr style=\"text-align: right;\">\n      <th>diff_month</th>\n      <th>0</th>\n      <th>1</th>\n      <th>2</th>\n      <th>3</th>\n      <th>4</th>\n      <th>5</th>\n      <th>6</th>\n      <th>7</th>\n      <th>8</th>\n      <th>9</th>\n      <th>10</th>\n      <th>11</th>\n      <th>12</th>\n      <th>13</th>\n      <th>14</th>\n      <th>15</th>\n      <th>16</th>\n      <th>17</th>\n      <th>19</th>\n    </tr>\n    <tr>\n      <th>first_buy</th>\n      <th></th>\n      <th></th>\n      <th></th>\n      <th></th>\n      <th></th>\n      <th></th>\n      <th></th>\n      <th></th>\n      <th></th>\n      <th></th>\n      <th></th>\n      <th></th>\n      <th></th>\n      <th></th>\n      <th></th>\n      <th></th>\n      <th></th>\n      <th></th>\n      <th></th>\n    </tr>\n  </thead>\n  <tbody>\n    <tr>\n      <th>2017-01</th>\n      <td>1.0</td>\n      <td>0.003927</td>\n      <td>0.002618</td>\n      <td>0.001309</td>\n      <td>0.003927</td>\n      <td>0.001309</td>\n      <td>0.005236</td>\n      <td>0.001309</td>\n      <td>0.001309</td>\n      <td>NaN</td>\n      <td>0.003927</td>\n      <td>0.001309</td>\n      <td>0.007853</td>\n      <td>0.003927</td>\n      <td>0.001309</td>\n      <td>0.001309</td>\n      <td>0.002618</td>\n      <td>0.003927</td>\n      <td>0.001309</td>\n    </tr>\n    <tr>\n      <th>2017-02</th>\n      <td>1.0</td>\n      <td>0.002283</td>\n      <td>0.002854</td>\n      <td>0.001142</td>\n      <td>0.003995</td>\n      <td>0.001142</td>\n      <td>0.002283</td>\n      <td>0.001712</td>\n      <td>0.001712</td>\n      <td>0.002283</td>\n      <td>0.001142</td>\n      <td>0.002854</td>\n      <td>0.001712</td>\n      <td>0.001712</td>\n      <td>0.001142</td>\n      <td>0.000571</td>\n      <td>0.000571</td>\n      <td>0.002283</td>\n      <td>NaN</td>\n    </tr>\n    <tr>\n      <th>2017-03</th>\n      <td>1.0</td>\n      <td>0.004932</td>\n      <td>0.003794</td>\n      <td>0.003794</td>\n      <td>0.003414</td>\n      <td>0.001517</td>\n      <td>0.001517</td>\n      <td>0.003035</td>\n      <td>0.003414</td>\n      <td>0.000759</td>\n      <td>0.003794</td>\n      <td>0.001517</td>\n      <td>0.002276</td>\n      <td>0.001138</td>\n      <td>0.001517</td>\n      <td>0.002276</td>\n      <td>0.000759</td>\n      <td>0.001517</td>\n      <td>NaN</td>\n    </tr>\n    <tr>\n      <th>2017-04</th>\n      <td>1.0</td>\n      <td>0.005952</td>\n      <td>0.002126</td>\n      <td>0.001701</td>\n      <td>0.003401</td>\n      <td>0.002551</td>\n      <td>0.003401</td>\n      <td>0.002976</td>\n      <td>0.002976</td>\n      <td>0.001701</td>\n      <td>0.002551</td>\n      <td>0.000850</td>\n      <td>0.000850</td>\n      <td>0.000425</td>\n      <td>0.000850</td>\n      <td>0.000850</td>\n      <td>0.002126</td>\n      <td>NaN</td>\n      <td>NaN</td>\n    </tr>\n    <tr>\n      <th>2017-05</th>\n      <td>1.0</td>\n      <td>0.005006</td>\n      <td>0.005006</td>\n      <td>0.003893</td>\n      <td>0.003059</td>\n      <td>0.003337</td>\n      <td>0.004171</td>\n      <td>0.001669</td>\n      <td>0.002503</td>\n      <td>0.003059</td>\n      <td>0.002503</td>\n      <td>0.003337</td>\n      <td>0.002503</td>\n      <td>0.000278</td>\n      <td>0.001947</td>\n      <td>0.002503</td>\n      <td>NaN</td>\n      <td>NaN</td>\n      <td>NaN</td>\n    </tr>\n    <tr>\n      <th>2017-06</th>\n      <td>1.0</td>\n      <td>0.004779</td>\n      <td>0.003504</td>\n      <td>0.004141</td>\n      <td>0.002549</td>\n      <td>0.003823</td>\n      <td>0.003823</td>\n      <td>0.002230</td>\n      <td>0.001274</td>\n      <td>0.002230</td>\n      <td>0.003186</td>\n      <td>0.003504</td>\n      <td>0.001593</td>\n      <td>0.001274</td>\n      <td>0.001911</td>\n      <td>NaN</td>\n      <td>NaN</td>\n      <td>NaN</td>\n      <td>NaN</td>\n    </tr>\n    <tr>\n      <th>2017-07</th>\n      <td>1.0</td>\n      <td>0.005136</td>\n      <td>0.003595</td>\n      <td>0.002568</td>\n      <td>0.002825</td>\n      <td>0.002054</td>\n      <td>0.003082</td>\n      <td>0.001027</td>\n      <td>0.001798</td>\n      <td>0.002568</td>\n      <td>0.002311</td>\n      <td>0.003082</td>\n      <td>0.001284</td>\n      <td>0.002568</td>\n      <td>NaN</td>\n      <td>NaN</td>\n      <td>NaN</td>\n      <td>NaN</td>\n      <td>NaN</td>\n    </tr>\n    <tr>\n      <th>2017-08</th>\n      <td>1.0</td>\n      <td>0.006931</td>\n      <td>0.003346</td>\n      <td>0.002629</td>\n      <td>0.003585</td>\n      <td>0.005258</td>\n      <td>0.002868</td>\n      <td>0.002629</td>\n      <td>0.001434</td>\n      <td>0.001434</td>\n      <td>0.002390</td>\n      <td>0.001912</td>\n      <td>0.000956</td>\n      <td>NaN</td>\n      <td>NaN</td>\n      <td>NaN</td>\n      <td>NaN</td>\n      <td>NaN</td>\n      <td>NaN</td>\n    </tr>\n    <tr>\n      <th>2017-09</th>\n      <td>1.0</td>\n      <td>0.006780</td>\n      <td>0.005327</td>\n      <td>0.002906</td>\n      <td>0.004600</td>\n      <td>0.002179</td>\n      <td>0.002179</td>\n      <td>0.002421</td>\n      <td>0.002906</td>\n      <td>0.001695</td>\n      <td>0.002663</td>\n      <td>0.000726</td>\n      <td>NaN</td>\n      <td>NaN</td>\n      <td>NaN</td>\n      <td>NaN</td>\n      <td>NaN</td>\n      <td>NaN</td>\n      <td>NaN</td>\n    </tr>\n    <tr>\n      <th>2017-10</th>\n      <td>1.0</td>\n      <td>0.006935</td>\n      <td>0.002461</td>\n      <td>0.000895</td>\n      <td>0.002237</td>\n      <td>0.002013</td>\n      <td>0.002237</td>\n      <td>0.003579</td>\n      <td>0.002685</td>\n      <td>0.002013</td>\n      <td>0.002013</td>\n      <td>NaN</td>\n      <td>NaN</td>\n      <td>NaN</td>\n      <td>NaN</td>\n      <td>NaN</td>\n      <td>NaN</td>\n      <td>NaN</td>\n      <td>NaN</td>\n    </tr>\n    <tr>\n      <th>2017-11</th>\n      <td>1.0</td>\n      <td>0.005476</td>\n      <td>0.003834</td>\n      <td>0.001780</td>\n      <td>0.001917</td>\n      <td>0.001780</td>\n      <td>0.001095</td>\n      <td>0.001917</td>\n      <td>0.001369</td>\n      <td>0.000548</td>\n      <td>NaN</td>\n      <td>NaN</td>\n      <td>NaN</td>\n      <td>NaN</td>\n      <td>NaN</td>\n      <td>NaN</td>\n      <td>NaN</td>\n      <td>NaN</td>\n      <td>NaN</td>\n    </tr>\n    <tr>\n      <th>2017-12</th>\n      <td>1.0</td>\n      <td>0.002551</td>\n      <td>0.002734</td>\n      <td>0.003463</td>\n      <td>0.002734</td>\n      <td>0.002005</td>\n      <td>0.001640</td>\n      <td>0.000547</td>\n      <td>0.002187</td>\n      <td>NaN</td>\n      <td>NaN</td>\n      <td>NaN</td>\n      <td>NaN</td>\n      <td>NaN</td>\n      <td>NaN</td>\n      <td>NaN</td>\n      <td>NaN</td>\n      <td>NaN</td>\n      <td>NaN</td>\n    </tr>\n  </tbody>\n</table>\n</div>",
      "text/plain": "diff_month   0         1         2         3         4         5         6   \\\nfirst_buy                                                                     \n2017-01     1.0  0.003927  0.002618  0.001309  0.003927  0.001309  0.005236   \n2017-02     1.0  0.002283  0.002854  0.001142  0.003995  0.001142  0.002283   \n2017-03     1.0  0.004932  0.003794  0.003794  0.003414  0.001517  0.001517   \n2017-04     1.0  0.005952  0.002126  0.001701  0.003401  0.002551  0.003401   \n2017-05     1.0  0.005006  0.005006  0.003893  0.003059  0.003337  0.004171   \n2017-06     1.0  0.004779  0.003504  0.004141  0.002549  0.003823  0.003823   \n2017-07     1.0  0.005136  0.003595  0.002568  0.002825  0.002054  0.003082   \n2017-08     1.0  0.006931  0.003346  0.002629  0.003585  0.005258  0.002868   \n2017-09     1.0  0.006780  0.005327  0.002906  0.004600  0.002179  0.002179   \n2017-10     1.0  0.006935  0.002461  0.000895  0.002237  0.002013  0.002237   \n2017-11     1.0  0.005476  0.003834  0.001780  0.001917  0.001780  0.001095   \n2017-12     1.0  0.002551  0.002734  0.003463  0.002734  0.002005  0.001640   \n\ndiff_month        7         8         9         10        11        12  \\\nfirst_buy                                                                \n2017-01     0.001309  0.001309       NaN  0.003927  0.001309  0.007853   \n2017-02     0.001712  0.001712  0.002283  0.001142  0.002854  0.001712   \n2017-03     0.003035  0.003414  0.000759  0.003794  0.001517  0.002276   \n2017-04     0.002976  0.002976  0.001701  0.002551  0.000850  0.000850   \n2017-05     0.001669  0.002503  0.003059  0.002503  0.003337  0.002503   \n2017-06     0.002230  0.001274  0.002230  0.003186  0.003504  0.001593   \n2017-07     0.001027  0.001798  0.002568  0.002311  0.003082  0.001284   \n2017-08     0.002629  0.001434  0.001434  0.002390  0.001912  0.000956   \n2017-09     0.002421  0.002906  0.001695  0.002663  0.000726       NaN   \n2017-10     0.003579  0.002685  0.002013  0.002013       NaN       NaN   \n2017-11     0.001917  0.001369  0.000548       NaN       NaN       NaN   \n2017-12     0.000547  0.002187       NaN       NaN       NaN       NaN   \n\ndiff_month        13        14        15        16        17        19  \nfirst_buy                                                               \n2017-01     0.003927  0.001309  0.001309  0.002618  0.003927  0.001309  \n2017-02     0.001712  0.001142  0.000571  0.000571  0.002283       NaN  \n2017-03     0.001138  0.001517  0.002276  0.000759  0.001517       NaN  \n2017-04     0.000425  0.000850  0.000850  0.002126       NaN       NaN  \n2017-05     0.000278  0.001947  0.002503       NaN       NaN       NaN  \n2017-06     0.001274  0.001911       NaN       NaN       NaN       NaN  \n2017-07     0.002568       NaN       NaN       NaN       NaN       NaN  \n2017-08          NaN       NaN       NaN       NaN       NaN       NaN  \n2017-09          NaN       NaN       NaN       NaN       NaN       NaN  \n2017-10          NaN       NaN       NaN       NaN       NaN       NaN  \n2017-11          NaN       NaN       NaN       NaN       NaN       NaN  \n2017-12          NaN       NaN       NaN       NaN       NaN       NaN  "
     },
     "execution_count": 258,
     "metadata": {},
     "output_type": "execute_result"
    }
   ],
   "source": [
    "retention"
   ]
  },
  {
   "cell_type": "code",
   "execution_count": 259,
   "metadata": {
    "ExecuteTime": {
     "end_time": "2023-12-23T15:33:11.498914Z",
     "start_time": "2023-12-23T15:33:11.472023Z"
    },
    "trusted": true
   },
   "outputs": [],
   "source": [
    "x = round(retention.div(retention.iloc[:,0], axis = 0).mul(100), 2)[2].idxmax() \n",
    "#Берем значение под индексом 2, так как отсчет начинается с месяца с нулевым индексом"
   ]
  },
  {
   "cell_type": "code",
   "execution_count": 260,
   "metadata": {
    "ExecuteTime": {
     "end_time": "2023-12-23T15:33:11.500837Z",
     "start_time": "2023-12-23T15:33:11.472269Z"
    },
    "trusted": true
   },
   "outputs": [
    {
     "data": {
      "text/plain": "'Ответ : Когорта 2017-09 имеет самый высокий retention на 3-й месяц'"
     },
     "execution_count": 260,
     "metadata": {},
     "output_type": "execute_result"
    }
   ],
   "source": [
    "f'Ответ : Когорта {x} имеет самый высокий retention на 3-й месяц'"
   ]
  },
  {
   "cell_type": "markdown",
   "metadata": {},
   "source": [
    "#### Cтроим heatmap:"
   ]
  },
  {
   "cell_type": "code",
   "execution_count": 261,
   "metadata": {
    "ExecuteTime": {
     "end_time": "2023-12-23T15:33:13.067456Z",
     "start_time": "2023-12-23T15:33:11.480622Z"
    },
    "trusted": true
   },
   "outputs": [
    {
     "data": {
      "text/plain": "Text(174.5, 0.5, 'Cohort')"
     },
     "execution_count": 261,
     "metadata": {},
     "output_type": "execute_result"
    },
    {
     "data": {
      "image/png": "[encoded data removed]",
      "text/plain": "<Figure size 1584x720 with 2 Axes>"
     },
     "metadata": {},
     "output_type": "display_data"
    }
   ],
   "source": [
    "sns.heatmap(retention,  \n",
    "            annot=True,\n",
    "            fmt='.2%',\n",
    "            center=0,\n",
    "            vmin=0.0, \n",
    "            vmax=0.01,\n",
    "            cmap= 'coolwarm',\n",
    "           linewidths=3, linecolor='black')\n",
    "plt.title('Retention')\n",
    "plt.xlabel('Period from purchase')\n",
    "plt.ylabel('Cohort')"
   ]
  },
  {
   "cell_type": "markdown",
   "metadata": {},
   "source": [
    "## Задание_6: Часто для качественного анализа аудитории использую подходы, основанные на сегментации. Используя python, построй RFM-сегментацию пользователей, чтобы качественно оценить свою аудиторию. В кластеризации можешь выбрать следующие метрики: R - время от последней покупки пользователя до текущей даты, F - суммарное количество покупок у пользователя за всё время, M - сумма покупок за всё время. Подробно опиши, как ты создавал кластеры. Для каждого RFM-сегмента построй границы метрик recency, frequency и monetary для интерпретации этих кластеров. Пример такого описания: RFM-сегмент 132 (recency=1, frequency=3, monetary=2) имеет границы метрик recency от 130 до 500 дней, frequency от 2 до 5 заказов в неделю, monetary от 1780 до 3560 рублей в неделю."
   ]
  },
  {
   "cell_type": "markdown",
   "metadata": {},
   "source": [
    "Recency Frequency Monetary\n",
    "- Recency(давность) — давность сделки: чем меньше времени прошло с момента последней активности клиента, тем больше вероятность, что он повторит\n",
    "- Frequency (частота) - количество сделок: чем больше каких-либо действий совершил клиент, тем больше вероятность того, что он его повторит в будущем\n",
    "- Monetary (деньги) — сумма сделок: чем больше денег было потрачено, тем больше вероятность того, что он сделает заказ\n",
    "    "
   ]
  },
  {
   "cell_type": "markdown",
   "metadata": {},
   "source": [
    "Как и в заданиях выше буду считать завершенным заказ со статусом \"delivered\""
   ]
  },
  {
   "cell_type": "code",
   "execution_count": 262,
   "metadata": {
    "ExecuteTime": {
     "end_time": "2023-12-23T15:33:13.976201Z",
     "start_time": "2023-12-23T15:33:13.066633Z"
    },
    "trusted": true
   },
   "outputs": [],
   "source": [
    "customers_df = pd.read_csv('/mnt/HC_Volume_18315164/home-jupyter/jupyter-g-georgij-45/first_project/olist_customers_dataset.csv')\n",
    "orders_df = pd.read_csv('/mnt/HC_Volume_18315164/home-jupyter/jupyter-g-georgij-45/first_project/olist_orders_dataset.csv')\n",
    "product_df = pd.read_csv('olist_order_items_dataset.csv')\n",
    "#Заново считываем датасеты, чтобы случайно не взять уже исправленный датасет из заданий выше"
   ]
  },
  {
   "cell_type": "code",
   "execution_count": 263,
   "metadata": {
    "ExecuteTime": {
     "end_time": "2023-12-23T15:33:14.528772Z",
     "start_time": "2023-12-23T15:33:13.975995Z"
    },
    "trusted": true
   },
   "outputs": [
    {
     "data": {
      "text/html": "<div>\n<style scoped>\n    .dataframe tbody tr th:only-of-type {\n        vertical-align: middle;\n    }\n\n    .dataframe tbody tr th {\n        vertical-align: top;\n    }\n\n    .dataframe thead th {\n        text-align: right;\n    }\n</style>\n<table border=\"1\" class=\"dataframe\">\n  <thead>\n    <tr style=\"text-align: right;\">\n      <th></th>\n      <th>order_id</th>\n      <th>customer_id</th>\n      <th>order_status</th>\n      <th>order_purchase_timestamp</th>\n      <th>order_approved_at</th>\n      <th>order_delivered_carrier_date</th>\n      <th>order_delivered_customer_date</th>\n      <th>order_estimated_delivery_date</th>\n      <th>customer_unique_id</th>\n      <th>customer_zip_code_prefix</th>\n      <th>customer_city</th>\n      <th>customer_state</th>\n      <th>order_item_id</th>\n      <th>product_id</th>\n      <th>seller_id</th>\n      <th>shipping_limit_date</th>\n      <th>price</th>\n      <th>freight_value</th>\n    </tr>\n  </thead>\n  <tbody>\n    <tr>\n      <th>0</th>\n      <td>e481f51cbdc54678b7cc49136f2d6af7</td>\n      <td>9ef432eb6251297304e76186b10a928d</td>\n      <td>delivered</td>\n      <td>2017-10-02 10:56:33</td>\n      <td>2017-10-02 11:07:15</td>\n      <td>2017-10-04 19:55:00</td>\n      <td>2017-10-10 21:25:13</td>\n      <td>2017-10-18 00:00:00</td>\n      <td>7c396fd4830fd04220f754e42b4e5bff</td>\n      <td>3149</td>\n      <td>sao paulo</td>\n      <td>SP</td>\n      <td>1.0</td>\n      <td>87285b34884572647811a353c7ac498a</td>\n      <td>3504c0cb71d7fa48d967e0e4c94d59d9</td>\n      <td>2017-10-06 11:07:15</td>\n      <td>29.99</td>\n      <td>8.72</td>\n    </tr>\n    <tr>\n      <th>1</th>\n      <td>53cdb2fc8bc7dce0b6741e2150273451</td>\n      <td>b0830fb4747a6c6d20dea0b8c802d7ef</td>\n      <td>delivered</td>\n      <td>2018-07-24 20:41:37</td>\n      <td>2018-07-26 03:24:27</td>\n      <td>2018-07-26 14:31:00</td>\n      <td>2018-08-07 15:27:45</td>\n      <td>2018-08-13 00:00:00</td>\n      <td>af07308b275d755c9edb36a90c618231</td>\n      <td>47813</td>\n      <td>barreiras</td>\n      <td>BA</td>\n      <td>1.0</td>\n      <td>595fac2a385ac33a80bd5114aec74eb8</td>\n      <td>289cdb325fb7e7f891c38608bf9e0962</td>\n      <td>2018-07-30 03:24:27</td>\n      <td>118.70</td>\n      <td>22.76</td>\n    </tr>\n    <tr>\n      <th>2</th>\n      <td>47770eb9100c2d0c44946d9cf07ec65d</td>\n      <td>41ce2a54c0b03bf3443c3d931a367089</td>\n      <td>delivered</td>\n      <td>2018-08-08 08:38:49</td>\n      <td>2018-08-08 08:55:23</td>\n      <td>2018-08-08 13:50:00</td>\n      <td>2018-08-17 18:06:29</td>\n      <td>2018-09-04 00:00:00</td>\n      <td>3a653a41f6f9fc3d2a113cf8398680e8</td>\n      <td>75265</td>\n      <td>vianopolis</td>\n      <td>GO</td>\n      <td>1.0</td>\n      <td>aa4383b373c6aca5d8797843e5594415</td>\n      <td>4869f7a5dfa277a7dca6462dcf3b52b2</td>\n      <td>2018-08-13 08:55:23</td>\n      <td>159.90</td>\n      <td>19.22</td>\n    </tr>\n    <tr>\n      <th>3</th>\n      <td>949d5b44dbf5de918fe9c16f97b45f8a</td>\n      <td>f88197465ea7920adcdbec7375364d82</td>\n      <td>delivered</td>\n      <td>2017-11-18 19:28:06</td>\n      <td>2017-11-18 19:45:59</td>\n      <td>2017-11-22 13:39:59</td>\n      <td>2017-12-02 00:28:42</td>\n      <td>2017-12-15 00:00:00</td>\n      <td>7c142cf63193a1473d2e66489a9ae977</td>\n      <td>59296</td>\n      <td>sao goncalo do amarante</td>\n      <td>RN</td>\n      <td>1.0</td>\n      <td>d0b61bfb1de832b15ba9d266ca96e5b0</td>\n      <td>66922902710d126a0e7d26b0e3805106</td>\n      <td>2017-11-23 19:45:59</td>\n      <td>45.00</td>\n      <td>27.20</td>\n    </tr>\n    <tr>\n      <th>4</th>\n      <td>ad21c59c0840e6cb83a9ceb5573f8159</td>\n      <td>8ab97904e6daea8866dbdbc4fb7aad2c</td>\n      <td>delivered</td>\n      <td>2018-02-13 21:18:39</td>\n      <td>2018-02-13 22:20:29</td>\n      <td>2018-02-14 19:46:34</td>\n      <td>2018-02-16 18:17:02</td>\n      <td>2018-02-26 00:00:00</td>\n      <td>72632f0f9dd73dfee390c9b22eb56dd6</td>\n      <td>9195</td>\n      <td>santo andre</td>\n      <td>SP</td>\n      <td>1.0</td>\n      <td>65266b2da20d04dbe00c5c2d3bb7859e</td>\n      <td>2c9e548be18521d1c43cde1c582c6de8</td>\n      <td>2018-02-19 20:31:37</td>\n      <td>19.90</td>\n      <td>8.72</td>\n    </tr>\n  </tbody>\n</table>\n</div>",
      "text/plain": "                           order_id                       customer_id  \\\n0  e481f51cbdc54678b7cc49136f2d6af7  9ef432eb6251297304e76186b10a928d   \n1  53cdb2fc8bc7dce0b6741e2150273451  b0830fb4747a6c6d20dea0b8c802d7ef   \n2  47770eb9100c2d0c44946d9cf07ec65d  41ce2a54c0b03bf3443c3d931a367089   \n3  949d5b44dbf5de918fe9c16f97b45f8a  f88197465ea7920adcdbec7375364d82   \n4  ad21c59c0840e6cb83a9ceb5573f8159  8ab97904e6daea8866dbdbc4fb7aad2c   \n\n  order_status order_purchase_timestamp    order_approved_at  \\\n0    delivered      2017-10-02 10:56:33  2017-10-02 11:07:15   \n1    delivered      2018-07-24 20:41:37  2018-07-26 03:24:27   \n2    delivered      2018-08-08 08:38:49  2018-08-08 08:55:23   \n3    delivered      2017-11-18 19:28:06  2017-11-18 19:45:59   \n4    delivered      2018-02-13 21:18:39  2018-02-13 22:20:29   \n\n  order_delivered_carrier_date order_delivered_customer_date  \\\n0          2017-10-04 19:55:00           2017-10-10 21:25:13   \n1          2018-07-26 14:31:00           2018-08-07 15:27:45   \n2          2018-08-08 13:50:00           2018-08-17 18:06:29   \n3          2017-11-22 13:39:59           2017-12-02 00:28:42   \n4          2018-02-14 19:46:34           2018-02-16 18:17:02   \n\n  order_estimated_delivery_date                customer_unique_id  \\\n0           2017-10-18 00:00:00  7c396fd4830fd04220f754e42b4e5bff   \n1           2018-08-13 00:00:00  af07308b275d755c9edb36a90c618231   \n2           2018-09-04 00:00:00  3a653a41f6f9fc3d2a113cf8398680e8   \n3           2017-12-15 00:00:00  7c142cf63193a1473d2e66489a9ae977   \n4           2018-02-26 00:00:00  72632f0f9dd73dfee390c9b22eb56dd6   \n\n   customer_zip_code_prefix            customer_city customer_state  \\\n0                      3149                sao paulo             SP   \n1                     47813                barreiras             BA   \n2                     75265               vianopolis             GO   \n3                     59296  sao goncalo do amarante             RN   \n4                      9195              santo andre             SP   \n\n   order_item_id                        product_id  \\\n0            1.0  87285b34884572647811a353c7ac498a   \n1            1.0  595fac2a385ac33a80bd5114aec74eb8   \n2            1.0  aa4383b373c6aca5d8797843e5594415   \n3            1.0  d0b61bfb1de832b15ba9d266ca96e5b0   \n4            1.0  65266b2da20d04dbe00c5c2d3bb7859e   \n\n                          seller_id  shipping_limit_date   price  \\\n0  3504c0cb71d7fa48d967e0e4c94d59d9  2017-10-06 11:07:15   29.99   \n1  289cdb325fb7e7f891c38608bf9e0962  2018-07-30 03:24:27  118.70   \n2  4869f7a5dfa277a7dca6462dcf3b52b2  2018-08-13 08:55:23  159.90   \n3  66922902710d126a0e7d26b0e3805106  2017-11-23 19:45:59   45.00   \n4  2c9e548be18521d1c43cde1c582c6de8  2018-02-19 20:31:37   19.90   \n\n   freight_value  \n0           8.72  \n1          22.76  \n2          19.22  \n3          27.20  \n4           8.72  "
     },
     "execution_count": 263,
     "metadata": {},
     "output_type": "execute_result"
    }
   ],
   "source": [
    "customer_order_df = orders_df.merge(customers_df, on = 'customer_id' ).fillna(0)\n",
    "all_data = customer_order_df.merge(product_df, how = 'left', on = 'order_id')\n",
    "all_deliv = all_data.query('order_status == \"delivered\"')\n",
    "all_deliv.head()\n",
    "#Мержим датасеты"
   ]
  },
  {
   "cell_type": "markdown",
   "metadata": {},
   "source": [
    "Временные рамки данных:"
   ]
  },
  {
   "cell_type": "code",
   "execution_count": 264,
   "metadata": {
    "ExecuteTime": {
     "end_time": "2023-12-23T15:33:14.579403Z",
     "start_time": "2023-12-23T15:33:14.535971Z"
    },
    "trusted": true
   },
   "outputs": [
    {
     "name": "stdout",
     "output_type": "stream",
     "text": "Заказы производились с 2016-09-15 12:16:38 по 2018-08-29 15:00:37\n"
    }
   ],
   "source": [
    "print('Заказы производились с {} по {}'.format(all_deliv['order_purchase_timestamp'].min(),\n",
    "                                    all_deliv['order_purchase_timestamp'].max()))"
   ]
  },
  {
   "cell_type": "code",
   "execution_count": 265,
   "metadata": {
    "ExecuteTime": {
     "end_time": "2023-12-23T15:33:14.653862Z",
     "start_time": "2023-12-23T15:33:14.570630Z"
    },
    "trusted": true
   },
   "outputs": [
    {
     "name": "stderr",
     "output_type": "stream",
     "text": "/opt/tljh/user/lib/python3.7/site-packages/ipykernel_launcher.py:1: SettingWithCopyWarning: \nA value is trying to be set on a copy of a slice from a DataFrame.\nTry using .loc[row_indexer,col_indexer] = value instead\n\nSee the caveats in the documentation: https://pandas.pydata.org/pandas-docs/stable/user_guide/indexing.html#returning-a-view-versus-a-copy\n  \"\"\"Entry point for launching an IPython kernel.\n"
    }
   ],
   "source": [
    "all_deliv['order_purchase_timestamp'] = pd.to_datetime(all_deliv['order_purchase_timestamp']) \n",
    "#Переводим в формат datetime для работы с датой"
   ]
  },
  {
   "cell_type": "code",
   "execution_count": 266,
   "metadata": {
    "ExecuteTime": {
     "end_time": "2023-12-23T15:33:14.655633Z",
     "start_time": "2023-12-23T15:33:14.633298Z"
    },
    "trusted": true
   },
   "outputs": [
    {
     "data": {
      "text/plain": "Timestamp('2018-08-30 15:00:37')"
     },
     "execution_count": 266,
     "metadata": {},
     "output_type": "execute_result"
    }
   ],
   "source": [
    "today = all_deliv['order_purchase_timestamp'].max() + timedelta(days=1)\n",
    "today\n",
    "#Последняя покупка в датасете датируется 29 сентября 2018 года - возьмем за today последнюю дату покупки + 1 день"
   ]
  },
  {
   "cell_type": "markdown",
   "metadata": {},
   "source": [
    "Соберем данные в RFM-таблицу:"
   ]
  },
  {
   "cell_type": "code",
   "execution_count": 271,
   "metadata": {
    "ExecuteTime": {
     "end_time": "2023-12-23T15:34:51.568845Z",
     "start_time": "2023-12-23T15:34:29.520534Z"
    },
    "trusted": true
   },
   "outputs": [],
   "source": [
    "RFM_table = all_deliv.groupby('customer_unique_id') \\\n",
    "    .agg({'order_purchase_timestamp': lambda x: (today - x.max()).days, \n",
    "                                                 'product_id': lambda x: len(x), \n",
    "                                                 'price': lambda x: x.sum()}) \\\n",
    "    .rename(columns = {'order_purchase_timestamp' :'recency', 'product_id' :'frequency','price' : 'monetary'}).reset_index()"
   ]
  },
  {
   "cell_type": "markdown",
   "metadata": {},
   "source": [
    "В классическом RFM подходе пользователей сегментируют по шкале от 1 балла до 4 баллов, поэтому я сегментирую пользователей на 4 категории: до 25, 25-50, 50-75, 75 и выше"
   ]
  },
  {
   "cell_type": "code",
   "execution_count": null,
   "metadata": {
    "ExecuteTime": {
     "start_time": "2023-12-23T15:33:14.678184Z"
    },
    "trusted": true
   },
   "outputs": [],
   "source": [
    "quantiles = RFM_table.quantile(q=[0.25,0.5,0.75]).to_dict()"
   ]
  },
  {
   "cell_type": "markdown",
   "metadata": {},
   "source": [
    "Сегментируем пользователей:"
   ]
  },
  {
   "cell_type": "code",
   "execution_count": 273,
   "metadata": {
    "ExecuteTime": {
     "end_time": "2023-12-23T15:37:24.246831Z",
     "start_time": "2023-12-23T15:37:23.691361Z"
    },
    "trusted": true
   },
   "outputs": [
    {
     "data": {
      "text/html": "<div>\n<style scoped>\n    .dataframe tbody tr th:only-of-type {\n        vertical-align: middle;\n    }\n\n    .dataframe tbody tr th {\n        vertical-align: top;\n    }\n\n    .dataframe thead th {\n        text-align: right;\n    }\n</style>\n<table border=\"1\" class=\"dataframe\">\n  <thead>\n    <tr style=\"text-align: right;\">\n      <th></th>\n      <th>customer_unique_id</th>\n      <th>recency</th>\n      <th>frequency</th>\n      <th>monetary</th>\n      <th>r_quartile</th>\n      <th>f_quartile</th>\n      <th>m_quartile</th>\n      <th>RFMClass</th>\n    </tr>\n  </thead>\n  <tbody>\n    <tr>\n      <th>0</th>\n      <td>0000366f3b9a7992bf8c76cfdf3221e2</td>\n      <td>112</td>\n      <td>1</td>\n      <td>129.90</td>\n      <td>4</td>\n      <td>1</td>\n      <td>3</td>\n      <td>413</td>\n    </tr>\n    <tr>\n      <th>1</th>\n      <td>0000b849f77a49e4a4ce2b2a4ca5be3f</td>\n      <td>115</td>\n      <td>1</td>\n      <td>18.90</td>\n      <td>3</td>\n      <td>1</td>\n      <td>1</td>\n      <td>311</td>\n    </tr>\n    <tr>\n      <th>2</th>\n      <td>0000f46a3911fa3c0805444483337064</td>\n      <td>537</td>\n      <td>1</td>\n      <td>69.00</td>\n      <td>1</td>\n      <td>1</td>\n      <td>2</td>\n      <td>112</td>\n    </tr>\n    <tr>\n      <th>3</th>\n      <td>0000f6ccb0745a6a4b88665a16c9f078</td>\n      <td>321</td>\n      <td>1</td>\n      <td>25.99</td>\n      <td>2</td>\n      <td>1</td>\n      <td>1</td>\n      <td>211</td>\n    </tr>\n    <tr>\n      <th>4</th>\n      <td>0004aac84e0df4da2b147fca70cf8255</td>\n      <td>288</td>\n      <td>1</td>\n      <td>180.00</td>\n      <td>2</td>\n      <td>1</td>\n      <td>4</td>\n      <td>214</td>\n    </tr>\n    <tr>\n      <th>...</th>\n      <td>...</td>\n      <td>...</td>\n      <td>...</td>\n      <td>...</td>\n      <td>...</td>\n      <td>...</td>\n      <td>...</td>\n      <td>...</td>\n    </tr>\n    <tr>\n      <th>93353</th>\n      <td>fffcf5a5ff07b0908bd4e2dbc735a684</td>\n      <td>447</td>\n      <td>2</td>\n      <td>1570.00</td>\n      <td>1</td>\n      <td>4</td>\n      <td>4</td>\n      <td>144</td>\n    </tr>\n    <tr>\n      <th>93354</th>\n      <td>fffea47cd6d3cc0a88bd621562a9d061</td>\n      <td>262</td>\n      <td>1</td>\n      <td>64.89</td>\n      <td>2</td>\n      <td>1</td>\n      <td>2</td>\n      <td>212</td>\n    </tr>\n    <tr>\n      <th>93355</th>\n      <td>ffff371b4d645b6ecea244b27531430a</td>\n      <td>568</td>\n      <td>1</td>\n      <td>89.90</td>\n      <td>1</td>\n      <td>1</td>\n      <td>3</td>\n      <td>113</td>\n    </tr>\n    <tr>\n      <th>93356</th>\n      <td>ffff5962728ec6157033ef9805bacc48</td>\n      <td>119</td>\n      <td>1</td>\n      <td>115.00</td>\n      <td>3</td>\n      <td>1</td>\n      <td>3</td>\n      <td>313</td>\n    </tr>\n    <tr>\n      <th>93357</th>\n      <td>ffffd2657e2aad2907e67c3e9daecbeb</td>\n      <td>484</td>\n      <td>1</td>\n      <td>56.99</td>\n      <td>1</td>\n      <td>1</td>\n      <td>2</td>\n      <td>112</td>\n    </tr>\n  </tbody>\n</table>\n<p>93358 rows × 8 columns</p>\n</div>",
      "text/plain": "                     customer_unique_id  recency  frequency  monetary  \\\n0      0000366f3b9a7992bf8c76cfdf3221e2      112          1    129.90   \n1      0000b849f77a49e4a4ce2b2a4ca5be3f      115          1     18.90   \n2      0000f46a3911fa3c0805444483337064      537          1     69.00   \n3      0000f6ccb0745a6a4b88665a16c9f078      321          1     25.99   \n4      0004aac84e0df4da2b147fca70cf8255      288          1    180.00   \n...                                 ...      ...        ...       ...   \n93353  fffcf5a5ff07b0908bd4e2dbc735a684      447          2   1570.00   \n93354  fffea47cd6d3cc0a88bd621562a9d061      262          1     64.89   \n93355  ffff371b4d645b6ecea244b27531430a      568          1     89.90   \n93356  ffff5962728ec6157033ef9805bacc48      119          1    115.00   \n93357  ffffd2657e2aad2907e67c3e9daecbeb      484          1     56.99   \n\n       r_quartile  f_quartile  m_quartile RFMClass  \n0               4           1           3      413  \n1               3           1           1      311  \n2               1           1           2      112  \n3               2           1           1      211  \n4               2           1           4      214  \n...           ...         ...         ...      ...  \n93353           1           4           4      144  \n93354           2           1           2      212  \n93355           1           1           3      113  \n93356           3           1           3      313  \n93357           1           1           2      112  \n\n[93358 rows x 8 columns]"
     },
     "execution_count": 273,
     "metadata": {},
     "output_type": "execute_result"
    }
   ],
   "source": [
    "def r_score(a,b,c):\n",
    "    if a <= c[b][0.25]:\n",
    "        return 4\n",
    "    elif a <= c[b][0.50]:\n",
    "        return 3\n",
    "    elif a <= c[b][0.75]:\n",
    "        return 2\n",
    "    else:\n",
    "        return 1\n",
    "\n",
    "def fm_score(a,b,c):\n",
    "    if a <= c[b][0.25]:\n",
    "        return 1\n",
    "    elif a <= c[b][0.50]:\n",
    "        return 2\n",
    "    elif a <= c[b][0.75]: \n",
    "        return 3\n",
    "    else:\n",
    "        return 4\n",
    "\n",
    "RFM_table['r_quartile'] = RFM_table['recency'].apply(r_score, args=('recency',quantiles,))\n",
    "RFM_table['f_quartile'] = RFM_table['frequency'].apply(fm_score, args=('frequency',quantiles,))\n",
    "RFM_table['m_quartile'] = RFM_table['monetary'].apply(fm_score, args=('monetary',quantiles,))\n",
    "RFM_table['RFMClass'] = RFM_table.r_quartile.map(str) + RFM_table.f_quartile.map(str) + RFM_table.m_quartile.map(str)\n",
    "RFM_table"
   ]
  },
  {
   "cell_type": "markdown",
   "metadata": {},
   "source": [
    "## Интерпретация RFM-анализа:\n",
    "    \n",
    "Лучшие клиенты - RFMClass 444 Покупают больше других и часто возвращаются, очевидно, что довольны продуктом. Таким клиентам можно направлять подборки товаров, различные рекламные и акционные предложения. Предлагаем им особые условия, программу лояльности и т.д."
   ]
  },
  {
   "cell_type": "code",
   "execution_count": null,
   "metadata": {
    "ExecuteTime": {
     "start_time": "2023-12-23T15:33:14.689941Z"
    },
    "trusted": true
   },
   "outputs": [],
   "source": [
    "RFM_table[RFM_table['RFMClass']=='444'].head()"
   ]
  },
  {
   "cell_type": "markdown",
   "metadata": {},
   "source": [
    "RFMClass 441 Клиенты, которые часто возвращаются, но средний чек по ним достаточно низок, можно попытаться увеличить их средний чек направляя им рассылки с интересующими их товарами."
   ]
  },
  {
   "cell_type": "code",
   "execution_count": null,
   "metadata": {
    "ExecuteTime": {
     "start_time": "2023-12-23T15:33:14.692895Z"
    },
    "trusted": true
   },
   "outputs": [],
   "source": [
    "RFM_table[RFM_table['RFMClass']=='441'].head()"
   ]
  },
  {
   "cell_type": "markdown",
   "metadata": {},
   "source": [
    "RFMClass 344 Клиенты, с высоким чеком, но которые возвращаются реже. Нужно попытаться узнать, в чем дело - попросить их поучаствовать в опросе. Также отправляем им рассылки с интересными акциями и предложениями."
   ]
  },
  {
   "cell_type": "code",
   "execution_count": null,
   "metadata": {
    "ExecuteTime": {
     "start_time": "2023-12-23T15:33:14.737453Z"
    },
    "trusted": true
   },
   "outputs": [],
   "source": [
    "RFM_table[RFM_table['RFMClass']=='344'].head()"
   ]
  },
  {
   "cell_type": "markdown",
   "metadata": {},
   "source": [
    "RFMClass 341 Клиенты, которых можно также назвать постояными, но с маленьким чеком. Также отправляем им  опросник и рассылки с интересными акциями."
   ]
  },
  {
   "cell_type": "code",
   "execution_count": null,
   "metadata": {
    "ExecuteTime": {
     "start_time": "2023-12-23T15:33:14.738685Z"
    },
    "trusted": true
   },
   "outputs": [],
   "source": [
    "RFM_table[RFM_table['RFMClass']=='341'].head()"
   ]
  },
  {
   "cell_type": "markdown",
   "metadata": {},
   "source": [
    "RFMClass 241 - 244 Клиенты, которых можем потерять. Отправляем им реактивационные письма, запрашиваем обратную связь, предлагаем бонусы, программы лояльности. "
   ]
  },
  {
   "cell_type": "code",
   "execution_count": null,
   "metadata": {
    "ExecuteTime": {
     "start_time": "2023-12-23T15:33:14.738744Z"
    },
    "trusted": true
   },
   "outputs": [],
   "source": [
    "RFM_table[RFM_table['RFMClass']=='244'].head() "
   ]
  },
  {
   "cell_type": "markdown",
   "metadata": {},
   "source": [
    "RFMClass 113 - 114 Скорее всего \"случайные клиенты\", купившие у нас один раз, но с хорошим чеков. Таких клиентов нужно попытаться привлечь, поэтому даем им различные бонусы и интересные предложения, чтобы они заглядывали к нам почаще."
   ]
  },
  {
   "cell_type": "code",
   "execution_count": null,
   "metadata": {
    "ExecuteTime": {
     "start_time": "2023-12-23T15:33:14.738779Z"
    },
    "trusted": true
   },
   "outputs": [],
   "source": [
    "RFM_table[RFM_table['RFMClass']=='114'].head() "
   ]
  },
  {
   "cell_type": "markdown",
   "metadata": {},
   "source": [
    "RFMClass 112 - 111 Либо \"одноразовые\" пользователи, либо пользователи которые уже ушли от нас, не стоит тратить на них слишком больших усилий. Отправляем им рассылки, пока они от них не отпишутся:)"
   ]
  },
  {
   "cell_type": "code",
   "execution_count": null,
   "metadata": {
    "ExecuteTime": {
     "start_time": "2023-12-23T15:33:14.738850Z"
    },
    "trusted": true
   },
   "outputs": [],
   "source": [
    "RFM_table[RFM_table['RFMClass']=='111'].head() "
   ]
  },
  {
   "cell_type": "code",
   "execution_count": null,
   "metadata": {
    "ExecuteTime": {
     "end_time": "2023-12-23T15:33:14.809816Z",
     "start_time": "2023-12-23T15:33:14.738918Z"
    },
    "trusted": true
   },
   "outputs": [],
   "source": []
  },
  {
   "cell_type": "code",
   "execution_count": null,
   "metadata": {
    "ExecuteTime": {
     "start_time": "2023-12-23T15:33:14.738964Z"
    },
    "trusted": true
   },
   "outputs": [],
   "source": []
  },
  {
   "cell_type": "code",
   "execution_count": null,
   "metadata": {
    "ExecuteTime": {
     "start_time": "2023-12-23T15:33:14.739024Z"
    },
    "trusted": true
   },
   "outputs": [],
   "source": []
  }
 ],
 "metadata": {
  "kernelspec": {
   "display_name": "Python 3",
   "language": "python",
   "name": "python3"
  },
  "language_info": {
   "codemirror_mode": {
    "name": "ipython",
    "version": 3
   },
   "file_extension": ".py",
   "mimetype": "text/x-python",
   "name": "python",
   "nbconvert_exporter": "python",
   "pygments_lexer": "ipython3",
   "version": "3.7.3"
  }
 },
 "nbformat": 4,
 "nbformat_minor": 4
}
